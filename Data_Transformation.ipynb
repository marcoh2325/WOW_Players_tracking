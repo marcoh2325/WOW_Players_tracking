{
 "cells": [
  {
   "cell_type": "markdown",
   "id": "7fec7778",
   "metadata": {},
   "source": [
    "# WOW AVATAR TRANSFORMATION DATA"
   ]
  },
  {
   "cell_type": "markdown",
   "id": "b0788740",
   "metadata": {},
   "source": [
    "The objective of this notebook is to explore, clean and transform the data so it can be used for analysis\n",
    "or IA purposes (machine learning and deep learning)."
   ]
  },
  {
   "cell_type": "code",
   "execution_count": 21,
   "id": "685139a6",
   "metadata": {},
   "outputs": [],
   "source": [
    "import os\n",
    "import pandas as pd\n",
    "from string import ascii_letters"
   ]
  },
  {
   "cell_type": "code",
   "execution_count": 2,
   "id": "c0abbc82",
   "metadata": {},
   "outputs": [],
   "source": [
    "#Path were the original dataset files are\n",
    "path = \"./Files/Original\""
   ]
  },
  {
   "cell_type": "code",
   "execution_count": 3,
   "id": "ba7012fc",
   "metadata": {},
   "outputs": [],
   "source": [
    "os.chdir(path)"
   ]
  },
  {
   "cell_type": "code",
   "execution_count": 4,
   "id": "94fe4b9e",
   "metadata": {},
   "outputs": [],
   "source": [
    "df_loc = pd.read_csv(\"locations.csv\")"
   ]
  },
  {
   "cell_type": "code",
   "execution_count": 5,
   "id": "73be1c5d",
   "metadata": {
    "scrolled": true
   },
   "outputs": [
    {
     "data": {
      "text/html": [
       "<div>\n",
       "<style scoped>\n",
       "    .dataframe tbody tr th:only-of-type {\n",
       "        vertical-align: middle;\n",
       "    }\n",
       "\n",
       "    .dataframe tbody tr th {\n",
       "        vertical-align: top;\n",
       "    }\n",
       "\n",
       "    .dataframe thead th {\n",
       "        text-align: right;\n",
       "    }\n",
       "</style>\n",
       "<table border=\"1\" class=\"dataframe\">\n",
       "  <thead>\n",
       "    <tr style=\"text-align: right;\">\n",
       "      <th></th>\n",
       "      <th>Map_ID</th>\n",
       "      <th>Location_Type</th>\n",
       "      <th>Location_Name</th>\n",
       "      <th>Game_Version</th>\n",
       "    </tr>\n",
       "  </thead>\n",
       "  <tbody>\n",
       "    <tr>\n",
       "      <th>0</th>\n",
       "      <td>0</td>\n",
       "      <td>Continent</td>\n",
       "      <td>Eastern Kingdoms</td>\n",
       "      <td>WoW</td>\n",
       "    </tr>\n",
       "    <tr>\n",
       "      <th>1</th>\n",
       "      <td>1</td>\n",
       "      <td>Continent</td>\n",
       "      <td>Kalimdor</td>\n",
       "      <td>WoW</td>\n",
       "    </tr>\n",
       "    <tr>\n",
       "      <th>2</th>\n",
       "      <td>530</td>\n",
       "      <td>Continent</td>\n",
       "      <td>Outlands</td>\n",
       "      <td>TBC</td>\n",
       "    </tr>\n",
       "    <tr>\n",
       "      <th>3</th>\n",
       "      <td>571</td>\n",
       "      <td>Continent</td>\n",
       "      <td>Northrend</td>\n",
       "      <td>WLK</td>\n",
       "    </tr>\n",
       "    <tr>\n",
       "      <th>4</th>\n",
       "      <td>646</td>\n",
       "      <td>Continent</td>\n",
       "      <td>Deepholm</td>\n",
       "      <td>CAT</td>\n",
       "    </tr>\n",
       "    <tr>\n",
       "      <th>5</th>\n",
       "      <td>732</td>\n",
       "      <td>Continent</td>\n",
       "      <td>Tol Barad</td>\n",
       "      <td>CAT</td>\n",
       "    </tr>\n",
       "    <tr>\n",
       "      <th>6</th>\n",
       "      <td>870</td>\n",
       "      <td>Continent</td>\n",
       "      <td>Pandaria</td>\n",
       "      <td>MoP</td>\n",
       "    </tr>\n",
       "    <tr>\n",
       "      <th>7</th>\n",
       "      <td>1064</td>\n",
       "      <td>Continent</td>\n",
       "      <td>Mogu Island Daily Area (Isle of Thunder)</td>\n",
       "      <td>MoP</td>\n",
       "    </tr>\n",
       "    <tr>\n",
       "      <th>8</th>\n",
       "      <td>1116</td>\n",
       "      <td>Continent</td>\n",
       "      <td>Draenor</td>\n",
       "      <td>WoD</td>\n",
       "    </tr>\n",
       "    <tr>\n",
       "      <th>9</th>\n",
       "      <td>1191</td>\n",
       "      <td>Continent</td>\n",
       "      <td>Ashran</td>\n",
       "      <td>WoD</td>\n",
       "    </tr>\n",
       "  </tbody>\n",
       "</table>\n",
       "</div>"
      ],
      "text/plain": [
       "   Map_ID Location_Type                             Location_Name Game_Version\n",
       "0       0     Continent                          Eastern Kingdoms          WoW\n",
       "1       1     Continent                                  Kalimdor          WoW\n",
       "2     530     Continent                                  Outlands          TBC\n",
       "3     571     Continent                                 Northrend          WLK\n",
       "4     646     Continent                                  Deepholm          CAT\n",
       "5     732     Continent                                 Tol Barad          CAT\n",
       "6     870     Continent                                  Pandaria          MoP\n",
       "7    1064     Continent  Mogu Island Daily Area (Isle of Thunder)          MoP\n",
       "8    1116     Continent                                   Draenor          WoD\n",
       "9    1191     Continent                                    Ashran          WoD"
      ]
     },
     "execution_count": 5,
     "metadata": {},
     "output_type": "execute_result"
    }
   ],
   "source": [
    "df_loc.head(10)"
   ]
  },
  {
   "cell_type": "markdown",
   "id": "383779ea",
   "metadata": {},
   "source": [
    "Is there nan or null values in this dataset?"
   ]
  },
  {
   "cell_type": "code",
   "execution_count": 6,
   "id": "66fe627b",
   "metadata": {},
   "outputs": [
    {
     "data": {
      "text/plain": [
       "Map_ID           0\n",
       "Location_Type    0\n",
       "Location_Name    0\n",
       "Game_Version     0\n",
       "dtype: int64"
      ]
     },
     "execution_count": 6,
     "metadata": {},
     "output_type": "execute_result"
    }
   ],
   "source": [
    "df_loc.isna().sum()"
   ]
  },
  {
   "cell_type": "code",
   "execution_count": 7,
   "id": "4d5391e4",
   "metadata": {
    "scrolled": true
   },
   "outputs": [
    {
     "data": {
      "text/plain": [
       "Map_ID            int64\n",
       "Location_Type    object\n",
       "Location_Name    object\n",
       "Game_Version     object\n",
       "dtype: object"
      ]
     },
     "execution_count": 7,
     "metadata": {},
     "output_type": "execute_result"
    }
   ],
   "source": [
    "df_loc.dtypes"
   ]
  },
  {
   "cell_type": "markdown",
   "id": "a40f141f",
   "metadata": {},
   "source": [
    "Seems that the type of the columns is correct in relation to the values that this contains.\n",
    "Now let's explore each one of the columns:"
   ]
  },
  {
   "cell_type": "markdown",
   "id": "e2b755dd",
   "metadata": {},
   "source": [
    "## Cleaning Map_ID column"
   ]
  },
  {
   "cell_type": "markdown",
   "id": "ebf8f294",
   "metadata": {},
   "source": [
    "Let's see how many rows this data set has"
   ]
  },
  {
   "cell_type": "code",
   "execution_count": 8,
   "id": "74ac31da",
   "metadata": {},
   "outputs": [
    {
     "data": {
      "text/plain": [
       "151"
      ]
     },
     "execution_count": 8,
     "metadata": {},
     "output_type": "execute_result"
    }
   ],
   "source": [
    "#Because there are no nan values\n",
    "n_rows = df_loc[\"Map_ID\"].count() \n",
    "n_rows"
   ]
  },
  {
   "cell_type": "code",
   "execution_count": 9,
   "id": "fb8bd6cc",
   "metadata": {},
   "outputs": [
    {
     "data": {
      "text/plain": [
       "151"
      ]
     },
     "execution_count": 9,
     "metadata": {},
     "output_type": "execute_result"
    }
   ],
   "source": [
    "len( set( df_loc[\"Map_ID\"] ) )"
   ]
  },
  {
   "cell_type": "markdown",
   "id": "5d149474",
   "metadata": {},
   "source": [
    "That's how it's know that the id is unique for each row"
   ]
  },
  {
   "cell_type": "markdown",
   "id": "adf45afa",
   "metadata": {},
   "source": [
    "## Cleaning Location_Type column"
   ]
  },
  {
   "cell_type": "markdown",
   "id": "bbd90d5b",
   "metadata": {},
   "source": [
    "Because there are no nan or null values it's know that all columns have the same number of values. So let's see all the unique values:"
   ]
  },
  {
   "cell_type": "code",
   "execution_count": 10,
   "id": "f7ca7703",
   "metadata": {},
   "outputs": [
    {
     "data": {
      "text/plain": [
       "array(['Continent', 'Arena', 'Battleground', 'Garrison', 'Dungeon',\n",
       "       'Raid'], dtype=object)"
      ]
     },
     "execution_count": 10,
     "metadata": {},
     "output_type": "execute_result"
    }
   ],
   "source": [
    "df_loc[\"Location_Type\"].unique()"
   ]
  },
  {
   "cell_type": "markdown",
   "id": "e625179c",
   "metadata": {},
   "source": [
    "Because there are just a few unique values in this column. So the values can be read to look if there are strange characters."
   ]
  },
  {
   "cell_type": "markdown",
   "id": "783a6450",
   "metadata": {},
   "source": [
    "It's not the case. "
   ]
  },
  {
   "cell_type": "markdown",
   "id": "a373baed",
   "metadata": {},
   "source": [
    "This column contains strings that identify the type of location."
   ]
  },
  {
   "cell_type": "markdown",
   "id": "97c3fdf0",
   "metadata": {},
   "source": [
    "## Cleaning Location_Name"
   ]
  },
  {
   "cell_type": "code",
   "execution_count": 11,
   "id": "322a5178",
   "metadata": {},
   "outputs": [],
   "source": [
    "loc_unique_len = len(df_loc[\"Location_Name\"].unique())"
   ]
  },
  {
   "cell_type": "code",
   "execution_count": 12,
   "id": "29f9269b",
   "metadata": {},
   "outputs": [
    {
     "data": {
      "text/plain": [
       "True"
      ]
     },
     "execution_count": 12,
     "metadata": {},
     "output_type": "execute_result"
    }
   ],
   "source": [
    "n_rows == loc_unique_len"
   ]
  },
  {
   "cell_type": "markdown",
   "id": "15693070",
   "metadata": {},
   "source": [
    "All the values in each rows are unique"
   ]
  },
  {
   "cell_type": "code",
   "execution_count": 13,
   "id": "71835059",
   "metadata": {},
   "outputs": [
    {
     "data": {
      "text/plain": [
       "array(['Eastern Kingdoms', 'Kalimdor', 'Outlands', 'Northrend',\n",
       "       'Deepholm', 'Tol Barad', 'Pandaria',\n",
       "       'Mogu Island Daily Area (Isle of Thunder)', 'Draenor', 'Ashran',\n",
       "       'Tanaan Jungle Intro', 'Tanaan Jungle', \"Blade's Edge Arena\",\n",
       "       'Dalaran Arena', 'Nagrand Arena', 'Ruins of Lordaeron',\n",
       "       'The Ring of Valor', \"The Tiger's Peak\", \"Tol'Viron Arena\",\n",
       "       'Alterac Valley', 'Arathi Basin', 'Deepwind Gorge',\n",
       "       'Eye of the Storm', 'Eye of the Storm (Rated)', 'Isle of Conquest',\n",
       "       'Silvershard Mines', 'Strand of the Ancients', 'Temple of Kotmogu',\n",
       "       'The Battle for Gilneas', 'Twin Peaks', 'Warsong Gulch',\n",
       "       'FW Horde Garrison Level 1', 'FW Horde Garrison Level 2',\n",
       "       'FW Horde Garrison Level 3', 'FW Horde Garrison Level 4',\n",
       "       'SMV Alliance Garrison Level 1', 'SMV Alliance Garrison Level 2',\n",
       "       'SMV Alliance Garrison Level 3', 'SMV Alliance Garrison Level 4',\n",
       "       'Blackfathom Deeps', 'Blackrock Depths', 'Blackrock Spire',\n",
       "       'Dire Maul', 'Gnomeregan', 'Maraudon', 'Ragefire Chasm',\n",
       "       'Razorfen Downs', 'Razorfen Kraul', 'Scarlet Monastery',\n",
       "       'Scholomance', 'Shadowfang Keep', 'Stratholme', 'The Deadmines',\n",
       "       'The Stockade', \"The Temple of Atal'Hakkar\", 'Uldaman',\n",
       "       'Wailing Caverns', \"Zul'Farrak\", 'Blackwing Lair', 'Molten Core',\n",
       "       \"Ruins of Ahn'Qiraj\", \"Temple of Ahn'Qiraj\", 'Auchenai Crypts',\n",
       "       'Hellfire Ramparts', \"Magisters' Terrace\", 'Mana-Tombs',\n",
       "       'Old Hillsbrad Foothills', 'Sethekk Halls', 'Shadow Labyrinth',\n",
       "       'The Arcatraz', 'The Black Morass', 'The Blood Furnace',\n",
       "       'The Botanica', 'The Mechanar', 'The Shattered Halls',\n",
       "       'The Slave Pens', 'The Steamvault', 'The Underbog', 'Black Temple',\n",
       "       \"Gruul's Lair\", 'Hyjal Summit', 'Karazhan', \"Magtheridon's Lair\",\n",
       "       'Serpentshrine Cavern', 'Sunwell Plateau', 'The Eye',\n",
       "       \"Ahn'kahet: The Old Kingdom\", 'Azjol-Nerub', \"Drak'Tharon Keep\",\n",
       "       'Gundrak', 'Halls of Lightning', 'Halls of Reflection',\n",
       "       'Halls of Stone', 'Pit of Saron', 'The Culling of Stratholme',\n",
       "       'The Forge of Souls', 'The Nexus', 'The Oculus', 'The Violet Hold',\n",
       "       'Trial of the Champion', 'Utgarde Keep', 'Utgarde Pinnacle',\n",
       "       'Icecrown Citadel', 'Naxxramas', \"Onyxia's Lair\",\n",
       "       'The Eye of Eternity', 'The Obsidian Sanctum', 'The Ruby Sanctum',\n",
       "       'Trial of the Crusader', 'Ulduar', 'Vault of Archavon',\n",
       "       'Blackrock Caverns', 'End Time', 'Grim Batol',\n",
       "       'Halls of Origination', 'Hour of Twilight',\n",
       "       \"Lost City of the Tol'vir\", 'The Stonecore', 'The Vortex Pinnacle',\n",
       "       'Throne of the Tides', 'Well of Eternity', \"Zul'Aman\", \"Zul'Gurub\",\n",
       "       'Baradin Hold', 'Blackwing Descent', 'Dragon Soul', 'Firelands',\n",
       "       'The Bastion of Twilight', 'Throne of the Four Winds',\n",
       "       'Gate of the Setting Sun<U+00A0>', \"Mogu'Shan Palace<U+00A0>\",\n",
       "       'Shado-pan Monastery<U+00A0>', 'Siege of Niuzao Temple<U+00A0>',\n",
       "       'Stormstout Brewery<U+00A0>', 'Temple of the Jade Serpent<U+00A0>',\n",
       "       'Heart of Fear<U+00A0>', \"Mogu'shan Vaults<U+00A0>\",\n",
       "       'Siege of Orgrimmar<U+00A0>', 'Terrace of Endless Spring<U+00A0>',\n",
       "       'Throne of Thunder<U+00A0>', 'Auchindoun<U+00A0>',\n",
       "       'Bloodmaul Slag Mines<U+00A0>', 'Grimrail Depot<U+00A0>',\n",
       "       'Iron Docks<U+00A0>', 'Shadowmoon Burial Grounds<U+00A0>',\n",
       "       'Skyreach<U+00A0>', 'The Everbloom<U+00A0>',\n",
       "       'Upper Blackrock Spire<U+00A0>', 'Highmaul<U+00A0>',\n",
       "       'Blackrock Foundry<U+00A0>', 'Hellfire Citadel<U+00A0>'],\n",
       "      dtype=object)"
      ]
     },
     "execution_count": 13,
     "metadata": {},
     "output_type": "execute_result"
    }
   ],
   "source": [
    "df_loc[\"Location_Name\"].unique()"
   ]
  },
  {
   "cell_type": "code",
   "execution_count": 14,
   "id": "6e78e25a",
   "metadata": {},
   "outputs": [
    {
     "data": {
      "text/html": [
       "<div>\n",
       "<style scoped>\n",
       "    .dataframe tbody tr th:only-of-type {\n",
       "        vertical-align: middle;\n",
       "    }\n",
       "\n",
       "    .dataframe tbody tr th {\n",
       "        vertical-align: top;\n",
       "    }\n",
       "\n",
       "    .dataframe thead th {\n",
       "        text-align: right;\n",
       "    }\n",
       "</style>\n",
       "<table border=\"1\" class=\"dataframe\">\n",
       "  <thead>\n",
       "    <tr style=\"text-align: right;\">\n",
       "      <th></th>\n",
       "      <th>Map_ID</th>\n",
       "      <th>Location_Type</th>\n",
       "      <th>Location_Name</th>\n",
       "      <th>Game_Version</th>\n",
       "    </tr>\n",
       "  </thead>\n",
       "  <tbody>\n",
       "    <tr>\n",
       "      <th>129</th>\n",
       "      <td>962</td>\n",
       "      <td>Dungeon</td>\n",
       "      <td>Gate of the Setting Sun&lt;U+00A0&gt;</td>\n",
       "      <td>MoP</td>\n",
       "    </tr>\n",
       "    <tr>\n",
       "      <th>130</th>\n",
       "      <td>994</td>\n",
       "      <td>Dungeon</td>\n",
       "      <td>Mogu'Shan Palace&lt;U+00A0&gt;</td>\n",
       "      <td>MoP</td>\n",
       "    </tr>\n",
       "    <tr>\n",
       "      <th>131</th>\n",
       "      <td>959</td>\n",
       "      <td>Dungeon</td>\n",
       "      <td>Shado-pan Monastery&lt;U+00A0&gt;</td>\n",
       "      <td>MoP</td>\n",
       "    </tr>\n",
       "    <tr>\n",
       "      <th>132</th>\n",
       "      <td>1011</td>\n",
       "      <td>Dungeon</td>\n",
       "      <td>Siege of Niuzao Temple&lt;U+00A0&gt;</td>\n",
       "      <td>MoP</td>\n",
       "    </tr>\n",
       "    <tr>\n",
       "      <th>133</th>\n",
       "      <td>961</td>\n",
       "      <td>Dungeon</td>\n",
       "      <td>Stormstout Brewery&lt;U+00A0&gt;</td>\n",
       "      <td>MoP</td>\n",
       "    </tr>\n",
       "    <tr>\n",
       "      <th>134</th>\n",
       "      <td>960</td>\n",
       "      <td>Dungeon</td>\n",
       "      <td>Temple of the Jade Serpent&lt;U+00A0&gt;</td>\n",
       "      <td>MoP</td>\n",
       "    </tr>\n",
       "    <tr>\n",
       "      <th>135</th>\n",
       "      <td>1009</td>\n",
       "      <td>Raid</td>\n",
       "      <td>Heart of Fear&lt;U+00A0&gt;</td>\n",
       "      <td>MoP</td>\n",
       "    </tr>\n",
       "    <tr>\n",
       "      <th>136</th>\n",
       "      <td>1008</td>\n",
       "      <td>Raid</td>\n",
       "      <td>Mogu'shan Vaults&lt;U+00A0&gt;</td>\n",
       "      <td>MoP</td>\n",
       "    </tr>\n",
       "    <tr>\n",
       "      <th>137</th>\n",
       "      <td>1136</td>\n",
       "      <td>Raid</td>\n",
       "      <td>Siege of Orgrimmar&lt;U+00A0&gt;</td>\n",
       "      <td>MoP</td>\n",
       "    </tr>\n",
       "    <tr>\n",
       "      <th>138</th>\n",
       "      <td>996</td>\n",
       "      <td>Raid</td>\n",
       "      <td>Terrace of Endless Spring&lt;U+00A0&gt;</td>\n",
       "      <td>MoP</td>\n",
       "    </tr>\n",
       "    <tr>\n",
       "      <th>139</th>\n",
       "      <td>1098</td>\n",
       "      <td>Raid</td>\n",
       "      <td>Throne of Thunder&lt;U+00A0&gt;</td>\n",
       "      <td>MoP</td>\n",
       "    </tr>\n",
       "    <tr>\n",
       "      <th>140</th>\n",
       "      <td>1182</td>\n",
       "      <td>Dungeon</td>\n",
       "      <td>Auchindoun&lt;U+00A0&gt;</td>\n",
       "      <td>WoD</td>\n",
       "    </tr>\n",
       "    <tr>\n",
       "      <th>141</th>\n",
       "      <td>1175</td>\n",
       "      <td>Dungeon</td>\n",
       "      <td>Bloodmaul Slag Mines&lt;U+00A0&gt;</td>\n",
       "      <td>WoD</td>\n",
       "    </tr>\n",
       "    <tr>\n",
       "      <th>142</th>\n",
       "      <td>1208</td>\n",
       "      <td>Dungeon</td>\n",
       "      <td>Grimrail Depot&lt;U+00A0&gt;</td>\n",
       "      <td>WoD</td>\n",
       "    </tr>\n",
       "    <tr>\n",
       "      <th>143</th>\n",
       "      <td>1195</td>\n",
       "      <td>Dungeon</td>\n",
       "      <td>Iron Docks&lt;U+00A0&gt;</td>\n",
       "      <td>WoD</td>\n",
       "    </tr>\n",
       "    <tr>\n",
       "      <th>144</th>\n",
       "      <td>1176</td>\n",
       "      <td>Dungeon</td>\n",
       "      <td>Shadowmoon Burial Grounds&lt;U+00A0&gt;</td>\n",
       "      <td>WoD</td>\n",
       "    </tr>\n",
       "    <tr>\n",
       "      <th>145</th>\n",
       "      <td>1209</td>\n",
       "      <td>Dungeon</td>\n",
       "      <td>Skyreach&lt;U+00A0&gt;</td>\n",
       "      <td>WoD</td>\n",
       "    </tr>\n",
       "    <tr>\n",
       "      <th>146</th>\n",
       "      <td>1279</td>\n",
       "      <td>Dungeon</td>\n",
       "      <td>The Everbloom&lt;U+00A0&gt;</td>\n",
       "      <td>WoD</td>\n",
       "    </tr>\n",
       "    <tr>\n",
       "      <th>147</th>\n",
       "      <td>1358</td>\n",
       "      <td>Dungeon</td>\n",
       "      <td>Upper Blackrock Spire&lt;U+00A0&gt;</td>\n",
       "      <td>WoD</td>\n",
       "    </tr>\n",
       "    <tr>\n",
       "      <th>148</th>\n",
       "      <td>1228</td>\n",
       "      <td>Raid</td>\n",
       "      <td>Highmaul&lt;U+00A0&gt;</td>\n",
       "      <td>WoD</td>\n",
       "    </tr>\n",
       "    <tr>\n",
       "      <th>149</th>\n",
       "      <td>1205</td>\n",
       "      <td>Raid</td>\n",
       "      <td>Blackrock Foundry&lt;U+00A0&gt;</td>\n",
       "      <td>WoD</td>\n",
       "    </tr>\n",
       "    <tr>\n",
       "      <th>150</th>\n",
       "      <td>1448</td>\n",
       "      <td>Raid</td>\n",
       "      <td>Hellfire Citadel&lt;U+00A0&gt;</td>\n",
       "      <td>WoD</td>\n",
       "    </tr>\n",
       "  </tbody>\n",
       "</table>\n",
       "</div>"
      ],
      "text/plain": [
       "     Map_ID Location_Type                       Location_Name Game_Version\n",
       "129     962       Dungeon     Gate of the Setting Sun<U+00A0>          MoP\n",
       "130     994       Dungeon            Mogu'Shan Palace<U+00A0>          MoP\n",
       "131     959       Dungeon         Shado-pan Monastery<U+00A0>          MoP\n",
       "132    1011       Dungeon      Siege of Niuzao Temple<U+00A0>          MoP\n",
       "133     961       Dungeon          Stormstout Brewery<U+00A0>          MoP\n",
       "134     960       Dungeon  Temple of the Jade Serpent<U+00A0>          MoP\n",
       "135    1009          Raid               Heart of Fear<U+00A0>          MoP\n",
       "136    1008          Raid            Mogu'shan Vaults<U+00A0>          MoP\n",
       "137    1136          Raid          Siege of Orgrimmar<U+00A0>          MoP\n",
       "138     996          Raid   Terrace of Endless Spring<U+00A0>          MoP\n",
       "139    1098          Raid           Throne of Thunder<U+00A0>          MoP\n",
       "140    1182       Dungeon                  Auchindoun<U+00A0>          WoD\n",
       "141    1175       Dungeon        Bloodmaul Slag Mines<U+00A0>          WoD\n",
       "142    1208       Dungeon              Grimrail Depot<U+00A0>          WoD\n",
       "143    1195       Dungeon                  Iron Docks<U+00A0>          WoD\n",
       "144    1176       Dungeon   Shadowmoon Burial Grounds<U+00A0>          WoD\n",
       "145    1209       Dungeon                    Skyreach<U+00A0>          WoD\n",
       "146    1279       Dungeon               The Everbloom<U+00A0>          WoD\n",
       "147    1358       Dungeon       Upper Blackrock Spire<U+00A0>          WoD\n",
       "148    1228          Raid                    Highmaul<U+00A0>          WoD\n",
       "149    1205          Raid           Blackrock Foundry<U+00A0>          WoD\n",
       "150    1448          Raid            Hellfire Citadel<U+00A0>          WoD"
      ]
     },
     "execution_count": 14,
     "metadata": {},
     "output_type": "execute_result"
    }
   ],
   "source": [
    "df_loc[df_loc[\"Location_Name\"].str.contains('<U+00A0>', regex=False)]"
   ]
  },
  {
   "cell_type": "markdown",
   "id": "b3ad50ef",
   "metadata": {},
   "source": [
    "There are values like 'Hellfire Citadel<U+00A0>' which contain tag.\n",
    "We can observe that there is the character <U+00A0>. This is the character\n",
    "for latin-1 to express an unbreakable space. Let's substitute it by an space character \"\" (Because all this values are\n",
    "at the end)."
   ]
  },
  {
   "cell_type": "code",
   "execution_count": 15,
   "id": "dad63758",
   "metadata": {},
   "outputs": [],
   "source": [
    "df_loc[\"Location_Name\"] = df_loc[\"Location_Name\"].str.replace(\"<U+00A0>\", \"\")"
   ]
  },
  {
   "cell_type": "code",
   "execution_count": 16,
   "id": "99dc5851",
   "metadata": {},
   "outputs": [
    {
     "data": {
      "text/html": [
       "<div>\n",
       "<style scoped>\n",
       "    .dataframe tbody tr th:only-of-type {\n",
       "        vertical-align: middle;\n",
       "    }\n",
       "\n",
       "    .dataframe tbody tr th {\n",
       "        vertical-align: top;\n",
       "    }\n",
       "\n",
       "    .dataframe thead th {\n",
       "        text-align: right;\n",
       "    }\n",
       "</style>\n",
       "<table border=\"1\" class=\"dataframe\">\n",
       "  <thead>\n",
       "    <tr style=\"text-align: right;\">\n",
       "      <th></th>\n",
       "      <th>Map_ID</th>\n",
       "      <th>Location_Type</th>\n",
       "      <th>Location_Name</th>\n",
       "      <th>Game_Version</th>\n",
       "    </tr>\n",
       "  </thead>\n",
       "  <tbody>\n",
       "  </tbody>\n",
       "</table>\n",
       "</div>"
      ],
      "text/plain": [
       "Empty DataFrame\n",
       "Columns: [Map_ID, Location_Type, Location_Name, Game_Version]\n",
       "Index: []"
      ]
     },
     "execution_count": 16,
     "metadata": {},
     "output_type": "execute_result"
    }
   ],
   "source": [
    "df_loc[df_loc[\"Location_Name\"].str.contains('<U+00A0>', regex=False)]"
   ]
  },
  {
   "cell_type": "code",
   "execution_count": 19,
   "id": "36c14122",
   "metadata": {},
   "outputs": [
    {
     "data": {
      "text/plain": [
       "array(['Eastern Kingdoms', 'Kalimdor', 'Outlands', 'Northrend',\n",
       "       'Deepholm', 'Tol Barad', 'Pandaria',\n",
       "       'Mogu Island Daily Area (Isle of Thunder)', 'Draenor', 'Ashran',\n",
       "       'Tanaan Jungle Intro', 'Tanaan Jungle', \"Blade's Edge Arena\",\n",
       "       'Dalaran Arena', 'Nagrand Arena', 'Ruins of Lordaeron',\n",
       "       'The Ring of Valor', \"The Tiger's Peak\", \"Tol'Viron Arena\",\n",
       "       'Alterac Valley', 'Arathi Basin', 'Deepwind Gorge',\n",
       "       'Eye of the Storm', 'Eye of the Storm (Rated)', 'Isle of Conquest',\n",
       "       'Silvershard Mines', 'Strand of the Ancients', 'Temple of Kotmogu',\n",
       "       'The Battle for Gilneas', 'Twin Peaks', 'Warsong Gulch',\n",
       "       'FW Horde Garrison Level 1', 'FW Horde Garrison Level 2',\n",
       "       'FW Horde Garrison Level 3', 'FW Horde Garrison Level 4',\n",
       "       'SMV Alliance Garrison Level 1', 'SMV Alliance Garrison Level 2',\n",
       "       'SMV Alliance Garrison Level 3', 'SMV Alliance Garrison Level 4',\n",
       "       'Blackfathom Deeps', 'Blackrock Depths', 'Blackrock Spire',\n",
       "       'Dire Maul', 'Gnomeregan', 'Maraudon', 'Ragefire Chasm',\n",
       "       'Razorfen Downs', 'Razorfen Kraul', 'Scarlet Monastery',\n",
       "       'Scholomance', 'Shadowfang Keep', 'Stratholme', 'The Deadmines',\n",
       "       'The Stockade', \"The Temple of Atal'Hakkar\", 'Uldaman',\n",
       "       'Wailing Caverns', \"Zul'Farrak\", 'Blackwing Lair', 'Molten Core',\n",
       "       \"Ruins of Ahn'Qiraj\", \"Temple of Ahn'Qiraj\", 'Auchenai Crypts',\n",
       "       'Hellfire Ramparts', \"Magisters' Terrace\", 'Mana-Tombs',\n",
       "       'Old Hillsbrad Foothills', 'Sethekk Halls', 'Shadow Labyrinth',\n",
       "       'The Arcatraz', 'The Black Morass', 'The Blood Furnace',\n",
       "       'The Botanica', 'The Mechanar', 'The Shattered Halls',\n",
       "       'The Slave Pens', 'The Steamvault', 'The Underbog', 'Black Temple',\n",
       "       \"Gruul's Lair\", 'Hyjal Summit', 'Karazhan', \"Magtheridon's Lair\",\n",
       "       'Serpentshrine Cavern', 'Sunwell Plateau', 'The Eye',\n",
       "       \"Ahn'kahet: The Old Kingdom\", 'Azjol-Nerub', \"Drak'Tharon Keep\",\n",
       "       'Gundrak', 'Halls of Lightning', 'Halls of Reflection',\n",
       "       'Halls of Stone', 'Pit of Saron', 'The Culling of Stratholme',\n",
       "       'The Forge of Souls', 'The Nexus', 'The Oculus', 'The Violet Hold',\n",
       "       'Trial of the Champion', 'Utgarde Keep', 'Utgarde Pinnacle',\n",
       "       'Icecrown Citadel', 'Naxxramas', \"Onyxia's Lair\",\n",
       "       'The Eye of Eternity', 'The Obsidian Sanctum', 'The Ruby Sanctum',\n",
       "       'Trial of the Crusader', 'Ulduar', 'Vault of Archavon',\n",
       "       'Blackrock Caverns', 'End Time', 'Grim Batol',\n",
       "       'Halls of Origination', 'Hour of Twilight',\n",
       "       \"Lost City of the Tol'vir\", 'The Stonecore', 'The Vortex Pinnacle',\n",
       "       'Throne of the Tides', 'Well of Eternity', \"Zul'Aman\", \"Zul'Gurub\",\n",
       "       'Baradin Hold', 'Blackwing Descent', 'Dragon Soul', 'Firelands',\n",
       "       'The Bastion of Twilight', 'Throne of the Four Winds',\n",
       "       'Gate of the Setting Sun', \"Mogu'Shan Palace\",\n",
       "       'Shado-pan Monastery', 'Siege of Niuzao Temple',\n",
       "       'Stormstout Brewery', 'Temple of the Jade Serpent',\n",
       "       'Heart of Fear', \"Mogu'shan Vaults\", 'Siege of Orgrimmar',\n",
       "       'Terrace of Endless Spring', 'Throne of Thunder', 'Auchindoun',\n",
       "       'Bloodmaul Slag Mines', 'Grimrail Depot', 'Iron Docks',\n",
       "       'Shadowmoon Burial Grounds', 'Skyreach', 'The Everbloom',\n",
       "       'Upper Blackrock Spire', 'Highmaul', 'Blackrock Foundry',\n",
       "       'Hellfire Citadel'], dtype=object)"
      ]
     },
     "execution_count": 19,
     "metadata": {},
     "output_type": "execute_result"
    }
   ],
   "source": [
    "df_loc[\"Location_Name\"].unique()"
   ]
  },
  {
   "cell_type": "markdown",
   "id": "7e026de8",
   "metadata": {},
   "source": [
    "Let's see which unique characters there is in the column names, to detect which characters are not wanted"
   ]
  },
  {
   "cell_type": "code",
   "execution_count": 20,
   "id": "d3dc030d",
   "metadata": {},
   "outputs": [
    {
     "name": "stdout",
     "output_type": "stream",
     "text": [
      "{'y', 'M', 'W', 'j', ':', 'H', 'x', 'r', 'e', 'A', 'V', 'q', 'G', 'R', 'C', 'P', 'p', 't', 'l', 'u', '(', 'L', ')', 'z', 'Z', 'B', 'N', 'c', 'b', 'I', 's', 'o', 'h', 'f', \"'\", 'S', ' ', 'v', 'a', 'Q', '-', 'U', 'd', 'D', 'K', 'w', '2', '4', 'k', 'T', 'F', 'g', 'O', '1', 'm', 'J', 'i', '3', 'n', 'E'}\n"
     ]
    }
   ],
   "source": [
    "letters_in_col = []\n",
    "for letters in df_loc[\"Location_Name\"].apply(set):\n",
    "    letters_in_col.extend(letters)\n",
    "letters_in_col = set(letters_in_col)\n",
    "print(letters_in_col)"
   ]
  },
  {
   "cell_type": "code",
   "execution_count": 24,
   "id": "44caeab3",
   "metadata": {},
   "outputs": [
    {
     "data": {
      "text/plain": [
       "{' ', \"'\", '(', ')', '-', '1', '2', '3', '4', ':'}"
      ]
     },
     "execution_count": 24,
     "metadata": {},
     "output_type": "execute_result"
    }
   ],
   "source": [
    "strange_chars = letters_in_col - set(ascii_letters)\n",
    "strange_chars"
   ]
  },
  {
   "cell_type": "markdown",
   "id": "258bc61e",
   "metadata": {},
   "source": [
    "Selection of all the values with this strange characters except the space"
   ]
  },
  {
   "cell_type": "code",
   "execution_count": 61,
   "id": "f39cf0b8",
   "metadata": {},
   "outputs": [],
   "source": [
    "mask = df_loc[\"Location_Name\"].str.contains( r\"\\b\\w*['()\\-\\d:]\\w*\\b\" , regex=True) "
   ]
  },
  {
   "cell_type": "code",
   "execution_count": 62,
   "id": "1f8f729a",
   "metadata": {},
   "outputs": [
    {
     "data": {
      "text/plain": [
       "12                Blade's Edge Arena\n",
       "17                  The Tiger's Peak\n",
       "18                   Tol'Viron Arena\n",
       "31         FW Horde Garrison Level 1\n",
       "32         FW Horde Garrison Level 2\n",
       "33         FW Horde Garrison Level 3\n",
       "34         FW Horde Garrison Level 4\n",
       "35     SMV Alliance Garrison Level 1\n",
       "36     SMV Alliance Garrison Level 2\n",
       "37     SMV Alliance Garrison Level 3\n",
       "38     SMV Alliance Garrison Level 4\n",
       "54         The Temple of Atal'Hakkar\n",
       "57                        Zul'Farrak\n",
       "60                Ruins of Ahn'Qiraj\n",
       "61               Temple of Ahn'Qiraj\n",
       "65                        Mana-Tombs\n",
       "79                      Gruul's Lair\n",
       "82                Magtheridon's Lair\n",
       "86        Ahn'kahet: The Old Kingdom\n",
       "87                       Azjol-Nerub\n",
       "88                  Drak'Tharon Keep\n",
       "104                    Onyxia's Lair\n",
       "116         Lost City of the Tol'vir\n",
       "121                         Zul'Aman\n",
       "122                        Zul'Gurub\n",
       "130                 Mogu'Shan Palace\n",
       "131              Shado-pan Monastery\n",
       "136                 Mogu'shan Vaults\n",
       "Name: Location_Name, dtype: object"
      ]
     },
     "execution_count": 62,
     "metadata": {},
     "output_type": "execute_result"
    }
   ],
   "source": [
    "df_loc[mask][\"Location_Name\"]"
   ]
  },
  {
   "cell_type": "markdown",
   "id": "586a184f",
   "metadata": {},
   "source": [
    "Seems like all this values are correct. Now let's see if there is a value with an space at the end, at the beginning or\n",
    "more than two spaces together:"
   ]
  },
  {
   "cell_type": "markdown",
   "id": "fa2b7780",
   "metadata": {},
   "source": [
    "Getting the values with an space at the beginning:"
   ]
  },
  {
   "cell_type": "code",
   "execution_count": 64,
   "id": "252fe29d",
   "metadata": {},
   "outputs": [
    {
     "data": {
      "text/plain": [
       "Series([], Name: Location_Name, dtype: object)"
      ]
     },
     "execution_count": 64,
     "metadata": {},
     "output_type": "execute_result"
    }
   ],
   "source": [
    "## Selection of all the values with an space at the beginning\n",
    "mask = df_loc[\"Location_Name\"].str.contains( r\"^\\s\" , regex=True)\n",
    "df_loc[mask][\"Location_Name\"]"
   ]
  },
  {
   "cell_type": "markdown",
   "id": "d03f6e08",
   "metadata": {},
   "source": [
    "There are no values that start with an space"
   ]
  },
  {
   "cell_type": "markdown",
   "id": "67ed648f",
   "metadata": {},
   "source": [
    "Getting the values that end with an space at the beginning:"
   ]
  },
  {
   "cell_type": "code",
   "execution_count": 65,
   "id": "dc406a4a",
   "metadata": {},
   "outputs": [
    {
     "data": {
      "text/plain": [
       "Series([], Name: Location_Name, dtype: object)"
      ]
     },
     "execution_count": 65,
     "metadata": {},
     "output_type": "execute_result"
    }
   ],
   "source": [
    "## Selection of all the values with an space at the end\n",
    "mask = df_loc[\"Location_Name\"].str.contains( r\"\\s$\" , regex=True)\n",
    "df_loc[mask][\"Location_Name\"]"
   ]
  },
  {
   "cell_type": "markdown",
   "id": "8da003ba",
   "metadata": {},
   "source": [
    "There are no values that end with an space"
   ]
  },
  {
   "cell_type": "markdown",
   "id": "5c5ce9e5",
   "metadata": {},
   "source": [
    "Getting all the values that contain more than 1 space between words:"
   ]
  },
  {
   "cell_type": "code",
   "execution_count": 66,
   "id": "2f389246",
   "metadata": {},
   "outputs": [
    {
     "data": {
      "text/plain": [
       "Series([], Name: Location_Name, dtype: object)"
      ]
     },
     "execution_count": 66,
     "metadata": {},
     "output_type": "execute_result"
    }
   ],
   "source": [
    "mask = df_loc[\"Location_Name\"].str.contains( r'\\S\\s{2,}\\S' , regex=True)\n",
    "df_loc[mask][\"Location_Name\"]"
   ]
  },
  {
   "cell_type": "markdown",
   "id": "7337d3c2",
   "metadata": {},
   "source": [
    "## Cleaning Game_Version "
   ]
  },
  {
   "cell_type": "markdown",
   "id": "6118e030",
   "metadata": {},
   "source": [
    "Finally all values can be seen for the last column to clean"
   ]
  },
  {
   "cell_type": "code",
   "execution_count": 68,
   "id": "f2e88e4d",
   "metadata": {},
   "outputs": [
    {
     "data": {
      "text/plain": [
       "array(['WoW', 'TBC', 'WLK', 'CAT', 'MoP', 'WoD'], dtype=object)"
      ]
     },
     "execution_count": 68,
     "metadata": {},
     "output_type": "execute_result"
    }
   ],
   "source": [
    "df_loc[\"Game_Version\"].unique()"
   ]
  },
  {
   "cell_type": "markdown",
   "id": "96d2c1a5",
   "metadata": {},
   "source": [
    "Look like all values are correct.\n",
    "This column values indicate the version."
   ]
  }
 ],
 "metadata": {
  "kernelspec": {
   "display_name": "Python 3 (ipykernel)",
   "language": "python",
   "name": "python3"
  },
  "language_info": {
   "codemirror_mode": {
    "name": "ipython",
    "version": 3
   },
   "file_extension": ".py",
   "mimetype": "text/x-python",
   "name": "python",
   "nbconvert_exporter": "python",
   "pygments_lexer": "ipython3",
   "version": "3.10.10"
  },
  "toc": {
   "base_numbering": 1,
   "nav_menu": {},
   "number_sections": true,
   "sideBar": true,
   "skip_h1_title": false,
   "title_cell": "Table of Contents",
   "title_sidebar": "Contents",
   "toc_cell": false,
   "toc_position": {},
   "toc_section_display": true,
   "toc_window_display": false
  }
 },
 "nbformat": 4,
 "nbformat_minor": 5
}
