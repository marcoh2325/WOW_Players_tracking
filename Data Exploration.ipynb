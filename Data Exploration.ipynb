{
 "cells": [
  {
   "cell_type": "markdown",
   "id": "f4c26f88",
   "metadata": {},
   "source": [
    "# Data Exploration for the World of Warcraft Avatar dataset"
   ]
  },
  {
   "cell_type": "markdown",
   "id": "4cd68ca7",
   "metadata": {},
   "source": [
    "Author: Marco Hernani"
   ]
  },
  {
   "cell_type": "markdown",
   "id": "146a5772",
   "metadata": {},
   "source": [
    "First of all We change the work directory so We work where the files are located"
   ]
  },
  {
   "cell_type": "markdown",
   "id": "a004d3ec",
   "metadata": {},
   "source": [
    "This dataset was taken from: https://www.kaggle.com/datasets/mylesoneill/warcraft-avatar-history"
   ]
  },
  {
   "cell_type": "code",
   "execution_count": 1,
   "id": "28b0a70d",
   "metadata": {},
   "outputs": [],
   "source": [
    "import os\n",
    "import numpy as np\n",
    "import pandas as pd"
   ]
  },
  {
   "cell_type": "code",
   "execution_count": 2,
   "id": "a4fdcada",
   "metadata": {},
   "outputs": [],
   "source": [
    "#Path where the files that contain the dataset are located\n",
    "path = \"Files\""
   ]
  },
  {
   "cell_type": "code",
   "execution_count": 3,
   "id": "8606da12",
   "metadata": {},
   "outputs": [],
   "source": [
    "os.chdir(path)"
   ]
  },
  {
   "cell_type": "markdown",
   "id": "611c3380",
   "metadata": {},
   "source": [
    "We get the names of the files"
   ]
  },
  {
   "cell_type": "code",
   "execution_count": 4,
   "id": "941f0016",
   "metadata": {},
   "outputs": [
    {
     "data": {
      "text/plain": [
       "['locations.csv', 'location_coords.csv', 'wowah_data.csv', 'zones.csv']"
      ]
     },
     "execution_count": 4,
     "metadata": {},
     "output_type": "execute_result"
    }
   ],
   "source": [
    "os.listdir()"
   ]
  },
  {
   "cell_type": "markdown",
   "id": "760d34a0",
   "metadata": {},
   "source": [
    "We get one of the files and start exploring the data "
   ]
  },
  {
   "cell_type": "code",
   "execution_count": 5,
   "id": "9010adc0",
   "metadata": {},
   "outputs": [],
   "source": [
    "df_location = pd.read_csv(\"locations.csv\", encoding=\"latin-1\")"
   ]
  },
  {
   "cell_type": "code",
   "execution_count": 6,
   "id": "264918d3",
   "metadata": {
    "scrolled": true
   },
   "outputs": [
    {
     "data": {
      "text/html": [
       "<div>\n",
       "<style scoped>\n",
       "    .dataframe tbody tr th:only-of-type {\n",
       "        vertical-align: middle;\n",
       "    }\n",
       "\n",
       "    .dataframe tbody tr th {\n",
       "        vertical-align: top;\n",
       "    }\n",
       "\n",
       "    .dataframe thead th {\n",
       "        text-align: right;\n",
       "    }\n",
       "</style>\n",
       "<table border=\"1\" class=\"dataframe\">\n",
       "  <thead>\n",
       "    <tr style=\"text-align: right;\">\n",
       "      <th></th>\n",
       "      <th>Map_ID</th>\n",
       "      <th>Location_Type</th>\n",
       "      <th>Location_Name</th>\n",
       "      <th>Game_Version</th>\n",
       "    </tr>\n",
       "  </thead>\n",
       "  <tbody>\n",
       "    <tr>\n",
       "      <th>0</th>\n",
       "      <td>0</td>\n",
       "      <td>Continent</td>\n",
       "      <td>Eastern Kingdoms</td>\n",
       "      <td>WoW</td>\n",
       "    </tr>\n",
       "    <tr>\n",
       "      <th>1</th>\n",
       "      <td>1</td>\n",
       "      <td>Continent</td>\n",
       "      <td>Kalimdor</td>\n",
       "      <td>WoW</td>\n",
       "    </tr>\n",
       "    <tr>\n",
       "      <th>2</th>\n",
       "      <td>530</td>\n",
       "      <td>Continent</td>\n",
       "      <td>Outlands</td>\n",
       "      <td>TBC</td>\n",
       "    </tr>\n",
       "    <tr>\n",
       "      <th>3</th>\n",
       "      <td>571</td>\n",
       "      <td>Continent</td>\n",
       "      <td>Northrend</td>\n",
       "      <td>WLK</td>\n",
       "    </tr>\n",
       "    <tr>\n",
       "      <th>4</th>\n",
       "      <td>646</td>\n",
       "      <td>Continent</td>\n",
       "      <td>Deepholm</td>\n",
       "      <td>CAT</td>\n",
       "    </tr>\n",
       "    <tr>\n",
       "      <th>5</th>\n",
       "      <td>732</td>\n",
       "      <td>Continent</td>\n",
       "      <td>Tol Barad</td>\n",
       "      <td>CAT</td>\n",
       "    </tr>\n",
       "    <tr>\n",
       "      <th>6</th>\n",
       "      <td>870</td>\n",
       "      <td>Continent</td>\n",
       "      <td>Pandaria</td>\n",
       "      <td>MoP</td>\n",
       "    </tr>\n",
       "    <tr>\n",
       "      <th>7</th>\n",
       "      <td>1064</td>\n",
       "      <td>Continent</td>\n",
       "      <td>Mogu Island Daily Area (Isle of Thunder)</td>\n",
       "      <td>MoP</td>\n",
       "    </tr>\n",
       "    <tr>\n",
       "      <th>8</th>\n",
       "      <td>1116</td>\n",
       "      <td>Continent</td>\n",
       "      <td>Draenor</td>\n",
       "      <td>WoD</td>\n",
       "    </tr>\n",
       "    <tr>\n",
       "      <th>9</th>\n",
       "      <td>1191</td>\n",
       "      <td>Continent</td>\n",
       "      <td>Ashran</td>\n",
       "      <td>WoD</td>\n",
       "    </tr>\n",
       "  </tbody>\n",
       "</table>\n",
       "</div>"
      ],
      "text/plain": [
       "   Map_ID Location_Type                             Location_Name Game_Version\n",
       "0       0     Continent                          Eastern Kingdoms          WoW\n",
       "1       1     Continent                                  Kalimdor          WoW\n",
       "2     530     Continent                                  Outlands          TBC\n",
       "3     571     Continent                                 Northrend          WLK\n",
       "4     646     Continent                                  Deepholm          CAT\n",
       "5     732     Continent                                 Tol Barad          CAT\n",
       "6     870     Continent                                  Pandaria          MoP\n",
       "7    1064     Continent  Mogu Island Daily Area (Isle of Thunder)          MoP\n",
       "8    1116     Continent                                   Draenor          WoD\n",
       "9    1191     Continent                                    Ashran          WoD"
      ]
     },
     "execution_count": 6,
     "metadata": {},
     "output_type": "execute_result"
    }
   ],
   "source": [
    "df_location.head(10)"
   ]
  },
  {
   "cell_type": "markdown",
   "id": "151ad717",
   "metadata": {},
   "source": [
    "We get a grasp to how many diferent values are."
   ]
  },
  {
   "cell_type": "code",
   "execution_count": 7,
   "id": "56ed4117",
   "metadata": {
    "scrolled": true
   },
   "outputs": [
    {
     "name": "stdout",
     "output_type": "stream",
     "text": [
      "[   0    1  530  571  646  732  870 1064 1116 1191 1265 1464  562  617\n",
      "  559  572  618 1134  980   30  529 1105  566  968  628  727  607  998\n",
      "  761  726  489 1152 1330 1153 1154 1158 1331 1159 1160   48  230  229\n",
      "  429   90  349  389  129   47 1004 1007   33  329   36   34  109   70\n",
      "   43  209  469  409  509  531  558  543  585  557  560  556  555  552\n",
      "  269  542  553  554  540  547  545  546  564  565  534  532  544  548\n",
      "  580  550  619  601  600  604  602  668  599  658  595  632  576  578\n",
      "  608  650  574  575  631  533  249  616  615  724  649  603  624  645\n",
      "  938  670  644  940  755  725  657  643  939  568  859  757  669  967\n",
      "  720  671  754  962  994  959 1011  961  960 1009 1008 1136  996 1098\n",
      " 1182 1175 1208 1195 1176 1209 1279 1358 1228 1205 1448]\n",
      "The number of unique values for Map_ID is 151\n",
      "######\n",
      "['Continent' 'Arena' 'Battleground' 'Garrison' 'Dungeon' 'Raid']\n",
      "The number of unique values for Location_Type is 6\n",
      "######\n",
      "['Eastern Kingdoms' 'Kalimdor' 'Outlands' 'Northrend' 'Deepholm'\n",
      " 'Tol Barad' 'Pandaria' 'Mogu Island Daily Area (Isle of Thunder)'\n",
      " 'Draenor' 'Ashran' 'Tanaan Jungle Intro' 'Tanaan Jungle'\n",
      " \"Blade's Edge Arena\" 'Dalaran Arena' 'Nagrand Arena' 'Ruins of Lordaeron'\n",
      " 'The Ring of Valor' \"The Tiger's Peak\" \"Tol'Viron Arena\" 'Alterac Valley'\n",
      " 'Arathi Basin' 'Deepwind Gorge' 'Eye of the Storm'\n",
      " 'Eye of the Storm (Rated)' 'Isle of Conquest' 'Silvershard Mines'\n",
      " 'Strand of the Ancients' 'Temple of Kotmogu' 'The Battle for Gilneas'\n",
      " 'Twin Peaks' 'Warsong Gulch' 'FW Horde Garrison Level 1'\n",
      " 'FW Horde Garrison Level 2' 'FW Horde Garrison Level 3'\n",
      " 'FW Horde Garrison Level 4' 'SMV Alliance Garrison Level 1'\n",
      " 'SMV Alliance Garrison Level 2' 'SMV Alliance Garrison Level 3'\n",
      " 'SMV Alliance Garrison Level 4' 'Blackfathom Deeps' 'Blackrock Depths'\n",
      " 'Blackrock Spire' 'Dire Maul' 'Gnomeregan' 'Maraudon' 'Ragefire Chasm'\n",
      " 'Razorfen Downs' 'Razorfen Kraul' 'Scarlet Monastery' 'Scholomance'\n",
      " 'Shadowfang Keep' 'Stratholme' 'The Deadmines' 'The Stockade'\n",
      " \"The Temple of Atal'Hakkar\" 'Uldaman' 'Wailing Caverns' \"Zul'Farrak\"\n",
      " 'Blackwing Lair' 'Molten Core' \"Ruins of Ahn'Qiraj\" \"Temple of Ahn'Qiraj\"\n",
      " 'Auchenai Crypts' 'Hellfire Ramparts' \"Magisters' Terrace\" 'Mana-Tombs'\n",
      " 'Old Hillsbrad Foothills' 'Sethekk Halls' 'Shadow Labyrinth'\n",
      " 'The Arcatraz' 'The Black Morass' 'The Blood Furnace' 'The Botanica'\n",
      " 'The Mechanar' 'The Shattered Halls' 'The Slave Pens' 'The Steamvault'\n",
      " 'The Underbog' 'Black Temple' \"Gruul's Lair\" 'Hyjal Summit' 'Karazhan'\n",
      " \"Magtheridon's Lair\" 'Serpentshrine Cavern' 'Sunwell Plateau' 'The Eye'\n",
      " \"Ahn'kahet: The Old Kingdom\" 'Azjol-Nerub' \"Drak'Tharon Keep\" 'Gundrak'\n",
      " 'Halls of Lightning' 'Halls of Reflection' 'Halls of Stone'\n",
      " 'Pit of Saron' 'The Culling of Stratholme' 'The Forge of Souls'\n",
      " 'The Nexus' 'The Oculus' 'The Violet Hold' 'Trial of the Champion'\n",
      " 'Utgarde Keep' 'Utgarde Pinnacle' 'Icecrown Citadel' 'Naxxramas'\n",
      " \"Onyxia's Lair\" 'The Eye of Eternity' 'The Obsidian Sanctum'\n",
      " 'The Ruby Sanctum' 'Trial of the Crusader' 'Ulduar' 'Vault of Archavon'\n",
      " 'Blackrock Caverns' 'End Time' 'Grim Batol' 'Halls of Origination'\n",
      " 'Hour of Twilight' \"Lost City of the Tol'vir\" 'The Stonecore'\n",
      " 'The Vortex Pinnacle' 'Throne of the Tides' 'Well of Eternity' \"Zul'Aman\"\n",
      " \"Zul'Gurub\" 'Baradin Hold' 'Blackwing Descent' 'Dragon Soul' 'Firelands'\n",
      " 'The Bastion of Twilight' 'Throne of the Four Winds'\n",
      " 'Gate of the Setting Sun<U+00A0>' \"Mogu'Shan Palace<U+00A0>\"\n",
      " 'Shado-pan Monastery<U+00A0>' 'Siege of Niuzao Temple<U+00A0>'\n",
      " 'Stormstout Brewery<U+00A0>' 'Temple of the Jade Serpent<U+00A0>'\n",
      " 'Heart of Fear<U+00A0>' \"Mogu'shan Vaults<U+00A0>\"\n",
      " 'Siege of Orgrimmar<U+00A0>' 'Terrace of Endless Spring<U+00A0>'\n",
      " 'Throne of Thunder<U+00A0>' 'Auchindoun<U+00A0>'\n",
      " 'Bloodmaul Slag Mines<U+00A0>' 'Grimrail Depot<U+00A0>'\n",
      " 'Iron Docks<U+00A0>' 'Shadowmoon Burial Grounds<U+00A0>'\n",
      " 'Skyreach<U+00A0>' 'The Everbloom<U+00A0>'\n",
      " 'Upper Blackrock Spire<U+00A0>' 'Highmaul<U+00A0>'\n",
      " 'Blackrock Foundry<U+00A0>' 'Hellfire Citadel<U+00A0>']\n",
      "The number of unique values for Location_Name is 151\n",
      "######\n",
      "['WoW' 'TBC' 'WLK' 'CAT' 'MoP' 'WoD']\n",
      "The number of unique values for Game_Version is 6\n",
      "######\n"
     ]
    }
   ],
   "source": [
    "for col in df_location:\n",
    "    print(df_location[col].unique())\n",
    "    print(f\"The number of unique values for {col} is {len(df_location[col].unique())}\")\n",
    "    print(\"######\")"
   ]
  },
  {
   "cell_type": "markdown",
   "id": "b4843bdb",
   "metadata": {},
   "source": [
    "Do NaN appear as a diferent value when unique is used?"
   ]
  },
  {
   "cell_type": "code",
   "execution_count": 8,
   "id": "2163115d",
   "metadata": {},
   "outputs": [
    {
     "data": {
      "text/plain": [
       "Map_ID           0\n",
       "Location_Type    0\n",
       "Location_Name    0\n",
       "Game_Version     0\n",
       "dtype: int64"
      ]
     },
     "execution_count": 8,
     "metadata": {},
     "output_type": "execute_result"
    }
   ],
   "source": [
    "df_location.isna().sum()"
   ]
  },
  {
   "cell_type": "markdown",
   "id": "5a1a1ed9",
   "metadata": {},
   "source": [
    "There are no nan values."
   ]
  },
  {
   "cell_type": "markdown",
   "id": "fb204c01",
   "metadata": {},
   "source": [
    "reading the file in encoding latin-1 was needed because there was no \"no breakable space character\" in utf-8 (0xa0).\n",
    "This character looks like the space character but has other characteristics."
   ]
  },
  {
   "cell_type": "code",
   "execution_count": 9,
   "id": "fb1e6696",
   "metadata": {
    "scrolled": true
   },
   "outputs": [],
   "source": [
    "df_loc_coords = pd.read_csv(\"location_coords.csv\", encoding=\"latin-1\")"
   ]
  },
  {
   "cell_type": "code",
   "execution_count": 10,
   "id": "f5a7d476",
   "metadata": {},
   "outputs": [
    {
     "data": {
      "text/html": [
       "<div>\n",
       "<style scoped>\n",
       "    .dataframe tbody tr th:only-of-type {\n",
       "        vertical-align: middle;\n",
       "    }\n",
       "\n",
       "    .dataframe tbody tr th {\n",
       "        vertical-align: top;\n",
       "    }\n",
       "\n",
       "    .dataframe thead th {\n",
       "        text-align: right;\n",
       "    }\n",
       "</style>\n",
       "<table border=\"1\" class=\"dataframe\">\n",
       "  <thead>\n",
       "    <tr style=\"text-align: right;\">\n",
       "      <th></th>\n",
       "      <th>Location_Name</th>\n",
       "      <th>Map_ID</th>\n",
       "      <th>X_coord</th>\n",
       "      <th>Y_coord</th>\n",
       "      <th>Z_coord</th>\n",
       "    </tr>\n",
       "  </thead>\n",
       "  <tbody>\n",
       "    <tr>\n",
       "      <th>0</th>\n",
       "      <td>Eastern Kingdom: Ironforge Airport</td>\n",
       "      <td>0.0</td>\n",
       "      <td>-4488.993311</td>\n",
       "      <td>-1580.19104</td>\n",
       "      <td>509.005066</td>\n",
       "    </tr>\n",
       "    <tr>\n",
       "      <th>1</th>\n",
       "      <td>Eastern Kingdom: Wetlands Mountain Camp</td>\n",
       "      <td>0.0</td>\n",
       "      <td>-3855.000000</td>\n",
       "      <td>-3479.00000</td>\n",
       "      <td>579.000000</td>\n",
       "    </tr>\n",
       "    <tr>\n",
       "      <th>2</th>\n",
       "      <td>Eastern Kingdom: Dun Morogh plane camp</td>\n",
       "      <td>0.0</td>\n",
       "      <td>-6161.000000</td>\n",
       "      <td>-786.00000</td>\n",
       "      <td>423.000000</td>\n",
       "    </tr>\n",
       "    <tr>\n",
       "      <th>3</th>\n",
       "      <td>Eastern Kingdom: Undercity</td>\n",
       "      <td>0.0</td>\n",
       "      <td>1831.260000</td>\n",
       "      <td>238.53000</td>\n",
       "      <td>60.520000</td>\n",
       "    </tr>\n",
       "    <tr>\n",
       "      <th>4</th>\n",
       "      <td>Eastern Kingdom: Stormwind City</td>\n",
       "      <td>0.0</td>\n",
       "      <td>-8913.230000</td>\n",
       "      <td>554.63300</td>\n",
       "      <td>93.794400</td>\n",
       "    </tr>\n",
       "    <tr>\n",
       "      <th>...</th>\n",
       "      <td>...</td>\n",
       "      <td>...</td>\n",
       "      <td>...</td>\n",
       "      <td>...</td>\n",
       "      <td>...</td>\n",
       "    </tr>\n",
       "    <tr>\n",
       "      <th>3804</th>\n",
       "      <td>Terokkar Forest/Allerian Stronghold</td>\n",
       "      <td>530.0</td>\n",
       "      <td>-2995.400000</td>\n",
       "      <td>3873.27000</td>\n",
       "      <td>9.724780</td>\n",
       "    </tr>\n",
       "    <tr>\n",
       "      <th>3805</th>\n",
       "      <td>Hellfire Peninsula/The Stair of Destiny</td>\n",
       "      <td>530.0</td>\n",
       "      <td>-323.810000</td>\n",
       "      <td>1027.61000</td>\n",
       "      <td>54.239900</td>\n",
       "    </tr>\n",
       "    <tr>\n",
       "      <th>3806</th>\n",
       "      <td>Shadowmoon Valley/Wildhammer Stronghold</td>\n",
       "      <td>530.0</td>\n",
       "      <td>-3980.970000</td>\n",
       "      <td>2156.29000</td>\n",
       "      <td>105.333000</td>\n",
       "    </tr>\n",
       "    <tr>\n",
       "      <th>3807</th>\n",
       "      <td>Blade's Edge Mountains/Toshley's Station</td>\n",
       "      <td>530.0</td>\n",
       "      <td>1860.730000</td>\n",
       "      <td>5528.27000</td>\n",
       "      <td>276.838000</td>\n",
       "    </tr>\n",
       "    <tr>\n",
       "      <th>3808</th>\n",
       "      <td>Azshara: Talrendis Point</td>\n",
       "      <td>1.0</td>\n",
       "      <td>2718.180000</td>\n",
       "      <td>-3880.75000</td>\n",
       "      <td>101.641000</td>\n",
       "    </tr>\n",
       "  </tbody>\n",
       "</table>\n",
       "<p>3809 rows × 5 columns</p>\n",
       "</div>"
      ],
      "text/plain": [
       "                                 Location_Name  Map_ID      X_coord   \n",
       "0           Eastern Kingdom: Ironforge Airport     0.0 -4488.993311  \\\n",
       "1      Eastern Kingdom: Wetlands Mountain Camp     0.0 -3855.000000   \n",
       "2       Eastern Kingdom: Dun Morogh plane camp     0.0 -6161.000000   \n",
       "3                   Eastern Kingdom: Undercity     0.0  1831.260000   \n",
       "4              Eastern Kingdom: Stormwind City     0.0 -8913.230000   \n",
       "...                                        ...     ...          ...   \n",
       "3804       Terokkar Forest/Allerian Stronghold   530.0 -2995.400000   \n",
       "3805   Hellfire Peninsula/The Stair of Destiny   530.0  -323.810000   \n",
       "3806   Shadowmoon Valley/Wildhammer Stronghold   530.0 -3980.970000   \n",
       "3807  Blade's Edge Mountains/Toshley's Station   530.0  1860.730000   \n",
       "3808                  Azshara: Talrendis Point     1.0  2718.180000   \n",
       "\n",
       "         Y_coord     Z_coord  \n",
       "0    -1580.19104  509.005066  \n",
       "1    -3479.00000  579.000000  \n",
       "2     -786.00000  423.000000  \n",
       "3      238.53000   60.520000  \n",
       "4      554.63300   93.794400  \n",
       "...          ...         ...  \n",
       "3804  3873.27000    9.724780  \n",
       "3805  1027.61000   54.239900  \n",
       "3806  2156.29000  105.333000  \n",
       "3807  5528.27000  276.838000  \n",
       "3808 -3880.75000  101.641000  \n",
       "\n",
       "[3809 rows x 5 columns]"
      ]
     },
     "execution_count": 10,
     "metadata": {},
     "output_type": "execute_result"
    }
   ],
   "source": [
    "df_loc_coords"
   ]
  },
  {
   "cell_type": "code",
   "execution_count": 11,
   "id": "07ad92a3",
   "metadata": {},
   "outputs": [
    {
     "data": {
      "text/plain": [
       "Location_Name    0\n",
       "Map_ID           2\n",
       "X_coord          0\n",
       "Y_coord          0\n",
       "Z_coord          0\n",
       "dtype: int64"
      ]
     },
     "execution_count": 11,
     "metadata": {},
     "output_type": "execute_result"
    }
   ],
   "source": [
    "df_loc_coords.isna().sum()"
   ]
  },
  {
   "cell_type": "markdown",
   "id": "487d0044",
   "metadata": {},
   "source": [
    "In the content of this file, there is nan values. What We do with those nan values?"
   ]
  },
  {
   "cell_type": "code",
   "execution_count": 12,
   "id": "05dfd9ed",
   "metadata": {},
   "outputs": [
    {
     "data": {
      "text/html": [
       "<div>\n",
       "<style scoped>\n",
       "    .dataframe tbody tr th:only-of-type {\n",
       "        vertical-align: middle;\n",
       "    }\n",
       "\n",
       "    .dataframe tbody tr th {\n",
       "        vertical-align: top;\n",
       "    }\n",
       "\n",
       "    .dataframe thead th {\n",
       "        text-align: right;\n",
       "    }\n",
       "</style>\n",
       "<table border=\"1\" class=\"dataframe\">\n",
       "  <thead>\n",
       "    <tr style=\"text-align: right;\">\n",
       "      <th></th>\n",
       "      <th>Location_Name</th>\n",
       "      <th>Map_ID</th>\n",
       "      <th>X_coord</th>\n",
       "      <th>Y_coord</th>\n",
       "      <th>Z_coord</th>\n",
       "    </tr>\n",
       "  </thead>\n",
       "  <tbody>\n",
       "    <tr>\n",
       "      <th>2889</th>\n",
       "      <td>Azshara: The Shattered Strand</td>\n",
       "      <td>NaN</td>\n",
       "      <td>4266.963379</td>\n",
       "      <td>-6277.396973</td>\n",
       "      <td>92.900871</td>\n",
       "    </tr>\n",
       "    <tr>\n",
       "      <th>2977</th>\n",
       "      <td>Durotar: Deadeye Shore</td>\n",
       "      <td>NaN</td>\n",
       "      <td>918.715027</td>\n",
       "      <td>-5115.689941</td>\n",
       "      <td>-1.654380</td>\n",
       "    </tr>\n",
       "  </tbody>\n",
       "</table>\n",
       "</div>"
      ],
      "text/plain": [
       "                      Location_Name  Map_ID      X_coord      Y_coord   \n",
       "2889  Azshara: The Shattered Strand     NaN  4266.963379 -6277.396973  \\\n",
       "2977         Durotar: Deadeye Shore     NaN   918.715027 -5115.689941   \n",
       "\n",
       "        Z_coord  \n",
       "2889  92.900871  \n",
       "2977  -1.654380  "
      ]
     },
     "execution_count": 12,
     "metadata": {},
     "output_type": "execute_result"
    }
   ],
   "source": [
    "df_loc_coords[df_loc_coords.isna().any(axis=1)] ##Selects all rows that have at least one nan value"
   ]
  },
  {
   "cell_type": "markdown",
   "id": "a1c4b5ac",
   "metadata": {},
   "source": [
    "Which values contain the column Map_ID? Can We replace the values for this column in this 2 rows?"
   ]
  },
  {
   "cell_type": "code",
   "execution_count": 13,
   "id": "50c0ee5f",
   "metadata": {},
   "outputs": [
    {
     "data": {
      "text/plain": [
       "array([  0.,   1.,  30., 529., 530., 269., 230., 229., 469., 369., 429.,\n",
       "       532., 349., 409., 533., 249., 389., 129.,  47., 189., 289.,  70.,\n",
       "       209., 309., 559., 562., 560., 564., 550.,  33.,  36.,  37.,  43.,\n",
       "        44.,  48.,  90., 109., 329., 489., 509., 531., 534., 540., 542.,\n",
       "       543., 544., 545., 546., 547., 548., 552., 553., 554., 555., 556.,\n",
       "       557., 558., 565., 566.,  17., 450., 571., 568., 599., 601., 574.,\n",
       "       600., 578., 576., 602., 595.,  nan, 609., 572., 585., 580., 624.,\n",
       "       615., 608., 604., 575.])"
      ]
     },
     "execution_count": 13,
     "metadata": {},
     "output_type": "execute_result"
    }
   ],
   "source": [
    "df_loc_coords.Map_ID.unique()"
   ]
  },
  {
   "cell_type": "markdown",
   "id": "4f8bce8d",
   "metadata": {},
   "source": [
    "What contains Map_ID in both locations dataframes?"
   ]
  },
  {
   "cell_type": "code",
   "execution_count": 14,
   "id": "785bd3ac",
   "metadata": {},
   "outputs": [
    {
     "data": {
      "text/plain": [
       "Location_Name     object\n",
       "Map_ID           float64\n",
       "X_coord          float64\n",
       "Y_coord          float64\n",
       "Z_coord          float64\n",
       "dtype: object"
      ]
     },
     "execution_count": 14,
     "metadata": {},
     "output_type": "execute_result"
    }
   ],
   "source": [
    "df_loc_coords.dtypes"
   ]
  },
  {
   "cell_type": "code",
   "execution_count": 15,
   "id": "3de4e01e",
   "metadata": {},
   "outputs": [
    {
     "data": {
      "text/plain": [
       "Map_ID            int64\n",
       "Location_Type    object\n",
       "Location_Name    object\n",
       "Game_Version     object\n",
       "dtype: object"
      ]
     },
     "execution_count": 15,
     "metadata": {},
     "output_type": "execute_result"
    }
   ],
   "source": [
    "df_location.dtypes"
   ]
  },
  {
   "cell_type": "markdown",
   "id": "fd77d95f",
   "metadata": {},
   "source": [
    "In one the column is an int64 and in the other is float64"
   ]
  },
  {
   "cell_type": "markdown",
   "id": "e802c30b",
   "metadata": {},
   "source": [
    "Reading in the info about the columns in kaggle, now I know that Map_ID use is as an id for zones in location.csv. \n",
    "And in location_coords.csv is a reference to the column from location.csv. Because it's an id (a categorical value) it doesn't make sense that there are real numbers in this columns."
   ]
  },
  {
   "cell_type": "markdown",
   "id": "f5555ce0",
   "metadata": {},
   "source": [
    "To change the type first we need to replace nan values:"
   ]
  },
  {
   "cell_type": "code",
   "execution_count": 16,
   "id": "359b5b48",
   "metadata": {},
   "outputs": [],
   "source": [
    "mask = df_loc_coords.isna().any(axis=1)"
   ]
  },
  {
   "cell_type": "code",
   "execution_count": 17,
   "id": "3d36cab0",
   "metadata": {},
   "outputs": [
    {
     "data": {
      "text/plain": [
       "2889   NaN\n",
       "2977   NaN\n",
       "Name: Map_ID, dtype: float64"
      ]
     },
     "execution_count": 17,
     "metadata": {},
     "output_type": "execute_result"
    }
   ],
   "source": [
    "df_loc_coords[mask].Map_ID"
   ]
  },
  {
   "cell_type": "code",
   "execution_count": 18,
   "id": "6da0b464",
   "metadata": {},
   "outputs": [
    {
     "data": {
      "text/plain": [
       "['Azshara: The Shattered Strand', 'Durotar: Deadeye Shore']"
      ]
     },
     "execution_count": 18,
     "metadata": {},
     "output_type": "execute_result"
    }
   ],
   "source": [
    "loc_names_nan = list(df_loc_coords[mask].Location_Name)\n",
    "loc_names_nan"
   ]
  },
  {
   "cell_type": "markdown",
   "id": "e1a542d1",
   "metadata": {},
   "source": [
    "We look for the Map_ID values in the location dataframe:"
   ]
  },
  {
   "cell_type": "code",
   "execution_count": 19,
   "id": "85d49acb",
   "metadata": {},
   "outputs": [
    {
     "data": {
      "text/html": [
       "<div>\n",
       "<style scoped>\n",
       "    .dataframe tbody tr th:only-of-type {\n",
       "        vertical-align: middle;\n",
       "    }\n",
       "\n",
       "    .dataframe tbody tr th {\n",
       "        vertical-align: top;\n",
       "    }\n",
       "\n",
       "    .dataframe thead th {\n",
       "        text-align: right;\n",
       "    }\n",
       "</style>\n",
       "<table border=\"1\" class=\"dataframe\">\n",
       "  <thead>\n",
       "    <tr style=\"text-align: right;\">\n",
       "      <th></th>\n",
       "      <th>Map_ID</th>\n",
       "      <th>Location_Type</th>\n",
       "      <th>Location_Name</th>\n",
       "      <th>Game_Version</th>\n",
       "    </tr>\n",
       "  </thead>\n",
       "  <tbody>\n",
       "  </tbody>\n",
       "</table>\n",
       "</div>"
      ],
      "text/plain": [
       "Empty DataFrame\n",
       "Columns: [Map_ID, Location_Type, Location_Name, Game_Version]\n",
       "Index: []"
      ]
     },
     "execution_count": 19,
     "metadata": {},
     "output_type": "execute_result"
    }
   ],
   "source": [
    "df_location[df_location['Location_Name'].isin(loc_names_nan)]"
   ]
  },
  {
   "cell_type": "markdown",
   "id": "20f642bb",
   "metadata": {},
   "source": [
    "It seems that there is not those values:"
   ]
  },
  {
   "cell_type": "code",
   "execution_count": 20,
   "id": "f19c73cb",
   "metadata": {},
   "outputs": [],
   "source": [
    "loc_names = list(df_location[\"Location_Name\"].unique())"
   ]
  },
  {
   "cell_type": "markdown",
   "id": "42101c75",
   "metadata": {},
   "source": [
    "We check that there is not those values in location:"
   ]
  },
  {
   "cell_type": "code",
   "execution_count": 21,
   "id": "3018eda5",
   "metadata": {},
   "outputs": [
    {
     "data": {
      "text/plain": [
       "{'Azshara: The Shattered Strand', 'Durotar: Deadeye Shore'}"
      ]
     },
     "execution_count": 21,
     "metadata": {},
     "output_type": "execute_result"
    }
   ],
   "source": [
    "set(loc_names_nan) - set(loc_names)"
   ]
  },
  {
   "cell_type": "markdown",
   "id": "b7ffaf1c",
   "metadata": {},
   "source": [
    "With which values can We replace the nans in location coordinates?"
   ]
  },
  {
   "cell_type": "markdown",
   "id": "736860c4",
   "metadata": {},
   "source": [
    "Can it be those location names are in df_location but don't match because some characters are lowecase or uppercase or there is a different character in one of the names. What can we do in this case?"
   ]
  },
  {
   "cell_type": "code",
   "execution_count": null,
   "id": "c3e9030a",
   "metadata": {},
   "outputs": [],
   "source": []
  },
  {
   "cell_type": "code",
   "execution_count": 22,
   "id": "d203f8db",
   "metadata": {},
   "outputs": [
    {
     "data": {
      "text/plain": [
       "{\"ahn'kahet: the old kingdom\",\n",
       " 'alterac valley',\n",
       " 'arathi basin',\n",
       " 'ashran',\n",
       " 'auchenai crypts',\n",
       " 'auchindoun<u+00a0>',\n",
       " 'azjol-nerub',\n",
       " 'baradin hold',\n",
       " 'black temple',\n",
       " 'blackfathom deeps',\n",
       " 'blackrock caverns',\n",
       " 'blackrock depths',\n",
       " 'blackrock foundry<u+00a0>',\n",
       " 'blackrock spire',\n",
       " 'blackwing descent',\n",
       " 'blackwing lair',\n",
       " \"blade's edge arena\",\n",
       " 'bloodmaul slag mines<u+00a0>',\n",
       " 'dalaran arena',\n",
       " 'deepholm',\n",
       " 'deepwind gorge',\n",
       " 'dire maul',\n",
       " 'draenor',\n",
       " 'dragon soul',\n",
       " \"drak'tharon keep\",\n",
       " 'eastern kingdoms',\n",
       " 'end time',\n",
       " 'eye of the storm',\n",
       " 'eye of the storm (rated)',\n",
       " 'firelands',\n",
       " 'fw horde garrison level 1',\n",
       " 'fw horde garrison level 2',\n",
       " 'fw horde garrison level 3',\n",
       " 'fw horde garrison level 4',\n",
       " 'gate of the setting sun<u+00a0>',\n",
       " 'gnomeregan',\n",
       " 'grim batol',\n",
       " 'grimrail depot<u+00a0>',\n",
       " \"gruul's lair\",\n",
       " 'gundrak',\n",
       " 'halls of lightning',\n",
       " 'halls of origination',\n",
       " 'halls of reflection',\n",
       " 'halls of stone',\n",
       " 'heart of fear<u+00a0>',\n",
       " 'hellfire citadel<u+00a0>',\n",
       " 'hellfire ramparts',\n",
       " 'highmaul<u+00a0>',\n",
       " 'hour of twilight',\n",
       " 'hyjal summit',\n",
       " 'icecrown citadel',\n",
       " 'iron docks<u+00a0>',\n",
       " 'isle of conquest',\n",
       " 'kalimdor',\n",
       " 'karazhan',\n",
       " \"lost city of the tol'vir\",\n",
       " \"magisters' terrace\",\n",
       " \"magtheridon's lair\",\n",
       " 'mana-tombs',\n",
       " 'maraudon',\n",
       " 'mogu island daily area (isle of thunder)',\n",
       " \"mogu'shan palace<u+00a0>\",\n",
       " \"mogu'shan vaults<u+00a0>\",\n",
       " 'molten core',\n",
       " 'nagrand arena',\n",
       " 'naxxramas',\n",
       " 'northrend',\n",
       " 'old hillsbrad foothills',\n",
       " \"onyxia's lair\",\n",
       " 'outlands',\n",
       " 'pandaria',\n",
       " 'pit of saron',\n",
       " 'ragefire chasm',\n",
       " 'razorfen downs',\n",
       " 'razorfen kraul',\n",
       " \"ruins of ahn'qiraj\",\n",
       " 'ruins of lordaeron',\n",
       " 'scarlet monastery',\n",
       " 'scholomance',\n",
       " 'serpentshrine cavern',\n",
       " 'sethekk halls',\n",
       " 'shado-pan monastery<u+00a0>',\n",
       " 'shadow labyrinth',\n",
       " 'shadowfang keep',\n",
       " 'shadowmoon burial grounds<u+00a0>',\n",
       " 'siege of niuzao temple<u+00a0>',\n",
       " 'siege of orgrimmar<u+00a0>',\n",
       " 'silvershard mines',\n",
       " 'skyreach<u+00a0>',\n",
       " 'smv alliance garrison level 1',\n",
       " 'smv alliance garrison level 2',\n",
       " 'smv alliance garrison level 3',\n",
       " 'smv alliance garrison level 4',\n",
       " 'stormstout brewery<u+00a0>',\n",
       " 'strand of the ancients',\n",
       " 'stratholme',\n",
       " 'sunwell plateau',\n",
       " 'tanaan jungle',\n",
       " 'tanaan jungle intro',\n",
       " \"temple of ahn'qiraj\",\n",
       " 'temple of kotmogu',\n",
       " 'temple of the jade serpent<u+00a0>',\n",
       " 'terrace of endless spring<u+00a0>',\n",
       " 'the arcatraz',\n",
       " 'the bastion of twilight',\n",
       " 'the battle for gilneas',\n",
       " 'the black morass',\n",
       " 'the blood furnace',\n",
       " 'the botanica',\n",
       " 'the culling of stratholme',\n",
       " 'the deadmines',\n",
       " 'the everbloom<u+00a0>',\n",
       " 'the eye',\n",
       " 'the eye of eternity',\n",
       " 'the forge of souls',\n",
       " 'the mechanar',\n",
       " 'the nexus',\n",
       " 'the obsidian sanctum',\n",
       " 'the oculus',\n",
       " 'the ring of valor',\n",
       " 'the ruby sanctum',\n",
       " 'the shattered halls',\n",
       " 'the slave pens',\n",
       " 'the steamvault',\n",
       " 'the stockade',\n",
       " 'the stonecore',\n",
       " \"the temple of atal'hakkar\",\n",
       " \"the tiger's peak\",\n",
       " 'the underbog',\n",
       " 'the violet hold',\n",
       " 'the vortex pinnacle',\n",
       " 'throne of the four winds',\n",
       " 'throne of the tides',\n",
       " 'throne of thunder<u+00a0>',\n",
       " 'tol barad',\n",
       " \"tol'viron arena\",\n",
       " 'trial of the champion',\n",
       " 'trial of the crusader',\n",
       " 'twin peaks',\n",
       " 'uldaman',\n",
       " 'ulduar',\n",
       " 'upper blackrock spire<u+00a0>',\n",
       " 'utgarde keep',\n",
       " 'utgarde pinnacle',\n",
       " 'vault of archavon',\n",
       " 'wailing caverns',\n",
       " 'warsong gulch',\n",
       " 'well of eternity',\n",
       " \"zul'aman\",\n",
       " \"zul'farrak\",\n",
       " \"zul'gurub\"}"
      ]
     },
     "execution_count": 22,
     "metadata": {},
     "output_type": "execute_result"
    }
   ],
   "source": [
    "#set with all location names in location\n",
    "#in lowercase\n",
    "set(df_location[\"Location_Name\"].str.lower())"
   ]
  },
  {
   "cell_type": "markdown",
   "id": "2a289353",
   "metadata": {},
   "source": [
    "There is the character <u+00a0> in the column Location_Name"
   ]
  },
  {
   "cell_type": "code",
   "execution_count": 23,
   "id": "5c68937c",
   "metadata": {},
   "outputs": [
    {
     "data": {
      "text/plain": [
       "{'mulgore mine ',\n",
       " 'hellfire peninsula : dustquill ravine ',\n",
       " 'instances : razorfen kraul ',\n",
       " 'elwynn forest : mirror lake orchard ',\n",
       " 'zangarmarsh: bloodscale grounds',\n",
       " 'westfall : westfall lighthouse ',\n",
       " 'hillsbrad foothills : hillsbrad fields town ',\n",
       " 'silverpine forest: behind greymane wall unfinished location',\n",
       " 'burning steppes: altar of storms burning steppes',\n",
       " 'netherstorm: tempest keep entrance',\n",
       " \"grizzly hills: sunreaver's command\",\n",
       " \"eastern plaguelands : zul'mashar \",\n",
       " '\\tthe barrens: the stagnant oasis',\n",
       " 'stonetalon mountains: sishir canyon',\n",
       " 'botanica',\n",
       " 'azuremyst isle : silvermyst isle ',\n",
       " 'azuremyst isle: the sacred grove',\n",
       " 'secret locations: nexus level 70 - crystal forest',\n",
       " 'tanaris    ',\n",
       " 'terokkar forest: stonebreaker hold',\n",
       " 'eastern plaguelands : noxious glade ',\n",
       " 'feralas ',\n",
       " 'bloodmyst isle: mystwood',\n",
       " 'nagrand',\n",
       " 'azuremyst isle: nestlewood thicket',\n",
       " \"undercity rogue's quarter    \",\n",
       " 'instances bc : azshara crater alliance entrance ',\n",
       " 'instances : razorfen downs  ',\n",
       " 'azshara: tower of eldara',\n",
       " 'arathi highlands: hammerfall',\n",
       " 'bloodmyst isle : bloodwash ',\n",
       " 'the black temple: chamber of command',\n",
       " 'terokkar forest : allerian post ',\n",
       " 'azuremyst isle : nestlewood hills ',\n",
       " \"blade's edge mountains: blade tooth canyon\",\n",
       " 'thousand needles : darkcloud pinnacle ',\n",
       " 'azshara',\n",
       " 'hellfire peninsula: the legion front',\n",
       " 'burning steppes:    top of blackrock mountain',\n",
       " 'ironforge: deeprun tram north',\n",
       " 'terokkar forest: veil shalas',\n",
       " 'dun morogh : frostmane hold ',\n",
       " 'hillsbrad foothills: tarren mill',\n",
       " \"blade's edge mountains : razor ridge \",\n",
       " 'orgrimmar: the drag',\n",
       " 'badlands: camp cagg',\n",
       " 'feralas: on eastern colossal',\n",
       " 'badlands : lethlor ravine ',\n",
       " 'netherstorm : protectorate watch post ',\n",
       " 'western plaguelands : felstone field ',\n",
       " 'netherstorm : tempest keep entrance ',\n",
       " 'wetlands : three corners ',\n",
       " 'silverpine forest: fenris isle',\n",
       " 'bloodmyst isle : bloodcursed reef ',\n",
       " 'scholomance    ',\n",
       " 'loch modan : thelsamar ',\n",
       " 'swamp of sorrows: pool of tears',\n",
       " 'tanaris ',\n",
       " \"zul'gurub - alter of storms\",\n",
       " 'hellfire peninsula: void ridge',\n",
       " 'eastern plaguelands:    ziggaraut in mushroom field',\n",
       " 'hillsbrad foothills:    unknown dwarf fortress',\n",
       " \"elwynn forest : hero's vigil \",\n",
       " \"teldrassil : lake al'ameth \",\n",
       " 'tempest keep: the botanica',\n",
       " 'azshara crater ally entrance (bg in azshara)',\n",
       " 'ghostlands: tower of the damned',\n",
       " 'duskwood:     twilight grove',\n",
       " 'ruins of lordaeron',\n",
       " \"un'goro crater : tanaris entrance \",\n",
       " 'dire maul west - entrance 1',\n",
       " 'feralas : twin colossals ',\n",
       " 'uldaman    ',\n",
       " 'loch modan: stonewrought dam',\n",
       " 'nagrand: burning blade ruins',\n",
       " 'alterac mountains : ruins of alterac ',\n",
       " 'ashenvale : zoram strand ',\n",
       " 'netherstorm: manaforge coruu',\n",
       " 'mulgore: the venture co. mine entrance',\n",
       " 'duskwood : raven hill ',\n",
       " 'shattrath city: aldor rise inn',\n",
       " \"desolace : nijel's point \",\n",
       " 'silvermoon city: the bazaar',\n",
       " 'arathi highlands : circle of inner binding ',\n",
       " 'searing gorge: thorium point',\n",
       " 'hellfire peninsula: the overlook',\n",
       " 'azshara crater horde entrance (bg in azshara)',\n",
       " \"borean tundra: unu'pe\",\n",
       " 'burning steppes : dreadmaul rock ',\n",
       " 'undercity caves ',\n",
       " 'darkshore : shatterspear village ',\n",
       " 'razorfen kraul ',\n",
       " 'netherstorm : sunfury hold ',\n",
       " 'duskwood: forlorn rowe',\n",
       " \"shattrath city: scryer's tier\",\n",
       " 'swamp of sorrows : sunken temple ',\n",
       " \"shadowmoon valley : altar of sha'tar \",\n",
       " 'shadowmoon valley: the fetid pool',\n",
       " 'winterspring: darkwhisper gorge',\n",
       " 'trisfal glades:    north coast',\n",
       " 'shadowmoon valley: shadowmoon village',\n",
       " \"ghostlands : an'telas \",\n",
       " \"shadowmoon valley : ata'mal terrace \",\n",
       " 'dalaran    ',\n",
       " \"zul'drak: zimi torga\",\n",
       " 'elwynn forest:    brackwell pumpkin patch',\n",
       " 'blackrock spire - upper: hall of blackhand',\n",
       " 'wetlands : dun algaz entrance ',\n",
       " 'pv p second deadwind pass    ',\n",
       " 'western plaguelands: thondroril tiver - house',\n",
       " 'dun morogh : iceflow lake ',\n",
       " 'darkshore: shatterspear village',\n",
       " 'tirisfal glades: balnir farmstead ',\n",
       " 'ghostlands : amani pass ',\n",
       " \"isle of quel'danas: greengill coast - north\",\n",
       " 'storm peaks: the chilled quagmire',\n",
       " 'unfinished regions: dalaran inside the dome',\n",
       " 'bloodmyst isle    ',\n",
       " 'netherstorm : camp of boom ',\n",
       " \"bloodmyst isle: vindicator's rest\",\n",
       " 'dun morogh: frostmane hold',\n",
       " 'hellfire peninsula: temple of telhamat',\n",
       " 'shadowfang keep: shadowfang keep',\n",
       " \"onyxia's lair \",\n",
       " 'thousand needles: the screeching canyon',\n",
       " 'top of karazhan   ',\n",
       " 'ashenvale: astranaar',\n",
       " 'tempest keep: the arcatraz',\n",
       " 'azuremyst isle : stillpine hold ',\n",
       " 'badlands: camp boff',\n",
       " 'silverpine forest: decrepit fairy',\n",
       " 'instances woltk : nexus - nexus ',\n",
       " 'deeprun tram',\n",
       " 'gnomeregan    ',\n",
       " 'blasted lands : dreadmaul post ',\n",
       " \"durotar : sen'jin village \",\n",
       " 'swamp of sorrows: fallow sanctuary',\n",
       " 'wailing caverns ',\n",
       " \"ahn'qiraj\",\n",
       " 'deeprun tram nessy',\n",
       " 'eastern plaguelands:    village',\n",
       " \"instances bc : gruul's lair \",\n",
       " 'azshara: temple of arkkoran',\n",
       " \"hellfire citadel - magtheridon's lair  \",\n",
       " 'instances bc : azshara crater horde entrance ',\n",
       " 'terokkar forest: firewing point',\n",
       " \"eversong woods: runestone shan'dor\",\n",
       " 'exodar : vault of lights ',\n",
       " 'duskwood: the rotting orchard',\n",
       " \"hinterlands: zun'watha\",\n",
       " 'dustwallow marsh : brackenwall village ',\n",
       " 'eversong woods: goldenbough pass',\n",
       " \"instances woltk : ahn'kahet: old kingdom \",\n",
       " 'instances bc : hellfire citadel - shattered halls ',\n",
       " 'western plaguelands: caer darrow dark portal',\n",
       " 'burning steppes : terror wing path ',\n",
       " 'hellfire peninsula: expedition armory (ruined human base)',\n",
       " 'shadowmoon valley : fel pits ',\n",
       " \"eversong woods: zeb'watha\",\n",
       " 'eastern plaguelands: darrowshire',\n",
       " 'barrens : forgotten pools ',\n",
       " \"drak'tharon keep: hall of departure\",\n",
       " 'orgrimmar ',\n",
       " 'stonetalon mountains : charred vale ',\n",
       " \"duskwood:     medivh's tower\",\n",
       " 'alterac valley : wildpaw ridge ',\n",
       " \"blade's edge mountains: vekhaar stand\",\n",
       " 'eversong woods : north sanctum ',\n",
       " 'terokkar forest : firewing point ',\n",
       " 'mulgore    ',\n",
       " 'stratholme ',\n",
       " 'thunder bluff: second level',\n",
       " 'silverpine forest ',\n",
       " 'burning steppes: ruins of thaurissan',\n",
       " 'terokkar forest : blackwind lake ',\n",
       " 'mulgore mine',\n",
       " 'utgarde pinnacle: utgarde pinnacle',\n",
       " 'terokkar forest : veil shalas ',\n",
       " 'redridge mountains: lakeshire',\n",
       " 'zangarmarsh : coilfang reservoir entrance ',\n",
       " 'undercity: royal quarter',\n",
       " 'elwynn forest: northshire valley',\n",
       " \"onyxia's lair\",\n",
       " 'dire maul    ',\n",
       " 'nagrand: warmaul hill',\n",
       " 'durotar: orgrimmar',\n",
       " 'city of ironforge ',\n",
       " 'alterac valley : winterax hold ',\n",
       " 'barrens : lushwater oasis ',\n",
       " 'searing gorge : grimeslit dig site ',\n",
       " 'wetlands: weird flowers',\n",
       " 'ironforge : mystic ward ',\n",
       " \"hellfire peninsula: ruins of sha'naar\",\n",
       " 'thousand needles : tahonda ruins ',\n",
       " 'storm peaks: ulduar',\n",
       " 'ironforge: the great forge',\n",
       " 'ghostlands : sanctum of sun ',\n",
       " 'elwynn forest:    northshire valley',\n",
       " 'zangarmarsh: umbrafen village',\n",
       " 'stonetalon mountains : windshear crag ',\n",
       " 'eastern plaguelands: the noxious glade',\n",
       " 'duskwood: deadwind pass',\n",
       " 'felwood : jaedenar ',\n",
       " 'shadowmoon valley : coilskar point ',\n",
       " \"duskwood: addle's stead\",\n",
       " 'eversong woods : farstrider retreat ',\n",
       " 'feralas: ruins of isildien',\n",
       " 'teldrassil: gnarlpine hold',\n",
       " 'north coast    ',\n",
       " \"silithus : hive'zora \",\n",
       " 'stonetalon mountains: greatwood vale',\n",
       " 'orgrimmar: valley of wisdom',\n",
       " 'arathi highlands : boulderfist hall ',\n",
       " 'dun morogh : gnomeregan entrance ',\n",
       " 'terokkar forest : allerian stronghold ',\n",
       " 'dun morogh: misty pine refuge',\n",
       " 'howling fjord: west guard keep',\n",
       " 'tempest keep - botanica  ',\n",
       " 'hellfire peninsula: cenarion post',\n",
       " \"darkshore : ameth'aran \",\n",
       " 'dustwallow marsh ',\n",
       " \"ghostlands : an'owyn \",\n",
       " 'azshara : valormok ',\n",
       " 'silverpine forest: the dead field',\n",
       " 'desolace: ghost walker post',\n",
       " 'arena/battlegrounds: arena - nagrand - bc',\n",
       " 'outlands - north sea - eversong woods',\n",
       " \"hellfire citadel: magtheridon's lair\",\n",
       " 'netherstorm : manaforge coruu ',\n",
       " \"winterspring : ruins of kel'theril \",\n",
       " 'nagrand: abandoned armory',\n",
       " 'alterac valley - bg: rock of durotan',\n",
       " \"isle of quel'danas: sun's reach armory\",\n",
       " \"silithus: valor's rest\",\n",
       " \"alterac mountains : dandred's fold \",\n",
       " 'thunder bluff: third level',\n",
       " 'orgrimmar    ',\n",
       " 'instance portal in netherstorm',\n",
       " 'loch modan',\n",
       " \"un'goro crater : golakka hot springs \",\n",
       " 'feralas : ruins of solarsal ',\n",
       " 'dustwallow marsh: theramore isle cit',\n",
       " 'zangarmarsh: orebor harborage',\n",
       " 'scarlet monastery',\n",
       " '\\tthe barrens: lushwater oasis',\n",
       " \"\\tahn'qiraj: \\t ahn'qiraj\",\n",
       " 'caverns of time : old hillsbrad foothills - giant clock ',\n",
       " \"eversong woods : shrine of dath'remar \",\n",
       " 'terokkar forest: veil rhaze',\n",
       " 'nagrand : abandoned armory ',\n",
       " 'caverns of time: old hillsbrad foothills - durnholde keep',\n",
       " 'dun morogh:    anvilmar',\n",
       " 'arathi basin - alliance start  ',\n",
       " 'city of ironforge    ',\n",
       " 'hellfire peninsula : zeppelin crash ',\n",
       " 'ashenvale: demon fall canyon',\n",
       " 'dustwallow marsh : sentry point ',\n",
       " \"shattrath city : world's end tavern \",\n",
       " 'silverpine forest: the sepulcher',\n",
       " \"blade's edge mountains: veil lashh\",\n",
       " 'azshara: on ravencrest monument',\n",
       " \"blade's edge mountains : raazan's landing \",\n",
       " 'dun morogh    ',\n",
       " 'eastern plaguelands: slaughterhouse in mushroom field',\n",
       " \"loch modan:    mo'grosh stronghold\",\n",
       " 'terokkar forest : lake jorune ',\n",
       " 'elwynn forest: fargodeep mine',\n",
       " 'winterspring: everlook',\n",
       " 'azuremyst isle: wildwind path',\n",
       " \"eversong woods: shrine of dath'remar\",\n",
       " 'elwynn forest : stonefield farm ',\n",
       " \"blade's edge mountains: blades' run\",\n",
       " \"deadwind pass : morgan's plot \",\n",
       " 'netherstorm : forge base: oblivion ',\n",
       " '\\tthe barrens: northwatch hold',\n",
       " 'hyjal cool ancient statue',\n",
       " 'black morass underground entrance    ',\n",
       " 'old hyjal    ',\n",
       " \"secret locations: zul'drak\",\n",
       " 'instances woltk : vault of archavon ',\n",
       " 'azuremyst isle: emberglade',\n",
       " 'felwood : jadefire run ',\n",
       " 'shadowmoon valley: slag watch',\n",
       " 'netherstorm arena',\n",
       " 'orgrimmar: \\t ogrimmar',\n",
       " 'ghostlands: sanctum of the sun',\n",
       " 'silverpine forest : decrepit fairy ',\n",
       " '\\tthe black temple: chamber of command',\n",
       " 'unfinished regions : silithus southern farm ',\n",
       " 'unfinished regions : tirisfal glades unfinished region ',\n",
       " 'stranglethorn vale/rebel camp',\n",
       " 'tirisfal glades    ',\n",
       " \"tirisfal glades: gunther's retreat \",\n",
       " 'loch modan: algaz station',\n",
       " 'netherstorm : cosmowrench ',\n",
       " 'thunder bluff: first level',\n",
       " 'hellfire citadel - hellfire ramparts  ',\n",
       " 'ghostlands: isle of tribulations',\n",
       " 'azuremyst isle: ammen fields',\n",
       " \"hellfire peninsula: den of haal'esh\",\n",
       " 'hyjal : inside cave ',\n",
       " 'exodar     ',\n",
       " 'durotar: valley of trials',\n",
       " 'terokkar forest : ring of observance ',\n",
       " 'stratholme    ',\n",
       " 'swamp of sorrows : pool of tears ',\n",
       " 'tanaris : caverns of time ',\n",
       " 'ghostlands: goldenmist village',\n",
       " 'dustwallow marsh: brackenwall village',\n",
       " 'arathi highlands: circle of inner binding',\n",
       " 'shadowmoon valley : shattered plains ',\n",
       " 'scarlet monastery - library',\n",
       " \"hellfire peninsula : sha'naari wastes \",\n",
       " \"ruins of ahn'qiraj\",\n",
       " 'bloodmyst isle: axxarien',\n",
       " 'felwood: jadefire run',\n",
       " \"silvermoon city: the shepherd's gate\",\n",
       " 'blackrock depths: detention block',\n",
       " 'shadowmoon valley: the black temple entrance',\n",
       " 'netherstorm     ',\n",
       " 'elwynn forest : crystal lake ',\n",
       " \"ashenvale: the dor'danil barrow den\",\n",
       " '\\tcoilfang reservoir: the underbog',\n",
       " 'mulgore : brambleblade ravine ',\n",
       " 'blackrock depths    ',\n",
       " 'azshara crater ally entrance  ',\n",
       " 'burning steppes : flame crest ',\n",
       " 'feralas ruins ',\n",
       " 'hellfire peninsula : path of anguish ',\n",
       " 'bloodmyst isle: bladewood',\n",
       " 'hillsbrad foothills:    hillsbrad fields human town',\n",
       " \"shattrath city : scryer's tier inn \",\n",
       " \"blade's edge mountains: crystal spine\",\n",
       " 'ghostlands: amani catacombs',\n",
       " 'teldrassil: shadowglen',\n",
       " 'caverns of time: old hillsbrad foothills - southshore',\n",
       " '\\tauchindoun: auchenai crypts',\n",
       " 'badlands : camp kosh ',\n",
       " \"silvermoon city : farstrider's square \",\n",
       " \"ghostlands : zeb'nowa \",\n",
       " 'hellfire peninsula : northern rampart ',\n",
       " 'ghostlands : dawnstar spire ',\n",
       " 'netherstorm: forge base: gehenna',\n",
       " 'duskwood:     tranquil gardens cemetery',\n",
       " 'durotar: razor hill',\n",
       " '\\tstratholme: \\t stratholme',\n",
       " \"thousand needles: weazel's crater\",\n",
       " 'elwynn forest: stormwind old town',\n",
       " 'silverpine forest:    dead field',\n",
       " 'arathi highlands:    witherbark village',\n",
       " 'instances woltk : naxxramas ',\n",
       " 'azuremyst isle: wildwind peak',\n",
       " 'felwood: talonbranch glade',\n",
       " \"un'goro crater \",\n",
       " 'instances bc : nagrand arena ',\n",
       " 'alterac valley - bg: icewing pass',\n",
       " \"zul'farrak    \",\n",
       " \"hellfire peninsula: zeth'gor\",\n",
       " '\\tmaraudon: \\t foulspore cavern',\n",
       " 'arathi highlands:    stormgarde keep',\n",
       " \"hellfire peninsula: gor'gaz outpost\",\n",
       " 'instances : ragefire chasm ',\n",
       " 'shadowmoon valley: wildhammer stronghold',\n",
       " 'orgrimmar : valley of wisdom ',\n",
       " 'tanaris : gaping chasm ',\n",
       " 'instances bc : auchindoun - mana-tombs ',\n",
       " 'secret locations: nexus level 70 - maelstrom',\n",
       " 'silverpine forest:    ambermill',\n",
       " 'durotar : valley of trials ',\n",
       " 'mulgore mine    ',\n",
       " 'coilfang reservoir: the underbog',\n",
       " 'loch modan:    loch lake',\n",
       " 'bloodmyst isle : axxarien ',\n",
       " 'thousand needles: splithoof crag',\n",
       " 'westfall: moonbrook',\n",
       " 'felwood: bloodvenom falls',\n",
       " 'arathi highlands: circle of outer binding',\n",
       " 'blasted lands: the dark portal',\n",
       " 'deadmines     ',\n",
       " 'bloodmyst isle: veridian point',\n",
       " 'azshara : jagged reef east ',\n",
       " 'dun morogh: ironforge',\n",
       " 'eastern plaguelands: northdale',\n",
       " \"temple of atal'hakkar\",\n",
       " 'teldrassil',\n",
       " 'felwood : timbermaw hold tunnel ',\n",
       " 'searing gorge : cauldron ',\n",
       " 'duskwood:     ravenhill cemetery',\n",
       " 'hinterlands: seradene night elf portal and giant world tree',\n",
       " \"borean tundra: taunka'le village\",\n",
       " 'terokkar forest: silmyr lake',\n",
       " '\\tthe barrens: the crossroads',\n",
       " \"blade's edge mountains: broken wilds\",\n",
       " 'nagrand: sunspring post',\n",
       " 'eastern plaguelands : northpass tower ',\n",
       " 'tirisfal glades: brill ',\n",
       " 'dun morogh:    dwarf outpost',\n",
       " 'terokkar forest : cenarion thicket ',\n",
       " 'instances : wailing caverns ',\n",
       " 'hinterlands: the altar of zul',\n",
       " 'hillsbrad foothills : dun garok ',\n",
       " 'azshara: ursolan',\n",
       " 'blasted lands:    azureload human town',\n",
       " 'duskwood:     yorgen farmstead',\n",
       " \"isle of quel'danas: dawnstar village\",\n",
       " 'ashenvale : ruins of stardust ',\n",
       " '\\tscarlet monastery cathedral: scarlet monastery cathedral',\n",
       " 'western plaguelands: ruins of andorhal',\n",
       " 'scarlet monastery - cathedral   ',\n",
       " \"duskwood : beggar's haunt \",\n",
       " 'blasted lands:    orc outpost',\n",
       " \"dun morogh : steelgrill's depot \",\n",
       " 'zangarmarsh: cenarion watchpos',\n",
       " 'ragefire chasm: ragefire chasm',\n",
       " \"darkshore: ameth'aran\",\n",
       " 'ashenvale: falfarren river',\n",
       " 'felwood: emerald sanctuary',\n",
       " \"zul'farrak \",\n",
       " 'auchindoun: auchenai crypts',\n",
       " 'tanaris : burning alliance ship ',\n",
       " 'hellfire citadel: the blood furnace',\n",
       " \"stonetalon mountains : malaka'jin \",\n",
       " \"azuremyst isle: odesyu's landing\",\n",
       " 'zangarmarsh: hewn bog',\n",
       " 'silvermoon city: bottom of sunfury spire',\n",
       " 'mulgore : winterhoof water well ',\n",
       " 'eastern kingdom: ironforge',\n",
       " '\\ttempest keep: the phoenix hall',\n",
       " 'bloodmyst isle : talon stand ',\n",
       " \"blade's edge mountains : crystal spine \",\n",
       " 'stonetalon mountains: the charred vale',\n",
       " \"tanaris: land's end beach\",\n",
       " \"instances bc : blade's edge arena \",\n",
       " 'tirisfal glades: scarlet monastery entrance',\n",
       " 'black morass portal    ',\n",
       " 'hillsbrad foothills : southshore harbor town ',\n",
       " \"zul'gurub stranglethorn vale\",\n",
       " 'terokkar forest: writhing mound',\n",
       " \"dalaran: krasus' landing\",\n",
       " 'arathi highlands: witherbark village',\n",
       " 'feralas',\n",
       " 'arathi highlands : refuge pointe ',\n",
       " 'burning steppes : pillar of ash ',\n",
       " 'elwynn forest: northshire vineyards',\n",
       " 'hall of legends',\n",
       " 'bloodmyst isle: the warp piston',\n",
       " \"desolace: sar'theris strand\",\n",
       " 'gnomeregan - workshop entrance',\n",
       " 'hellfire citadel - blood furnace',\n",
       " 'barrens: barrens field of giants',\n",
       " 'winterspring : timbermaw post ',\n",
       " 'terokkar forest: lake jorune',\n",
       " 'searing gorge',\n",
       " 'stormwind city    ',\n",
       " 'westfall: westfall lighthouse',\n",
       " \"\\t zul'farrak: \\t zul'farrak\",\n",
       " 'alterac mountains : headland ',\n",
       " \"badlands : agmond's end \",\n",
       " 'netherstorm: the scrap field',\n",
       " 'shadowmoon valley: dragonmaw fortress',\n",
       " 'silvermoon city : royal exchange ',\n",
       " \"blade's edge mountains: bladed gulch\",\n",
       " \"blade's edge mountains : bloodmaul camp \",\n",
       " \"blade's edge mountains : veil lashh \",\n",
       " 'badlands: angor fortress',\n",
       " 'tirisfal glades: cold hearth manor',\n",
       " 'moonglade: shrine of remulos',\n",
       " 'arathi highlands : drowned reef ',\n",
       " 'coilfang reservoir - steamvault  ',\n",
       " \"blade's edge mountains : vekhaar stand \",\n",
       " \"hellfire peninsula : zeth'gor \",\n",
       " \"eversong woods: saltheril's haven\",\n",
       " 'deeprun tram deeprun divers',\n",
       " 'stratholme - service entrance',\n",
       " 'sholazar basin: lakeside landing',\n",
       " 'teldrassil : pools of arilthrien ',\n",
       " 'wailing caverns',\n",
       " 'eversong woods: falconwing square',\n",
       " 'dustwallow marsh : lost point ',\n",
       " \"blade's edge mountains : churning gulch \",\n",
       " 'moonglade : shrine of remulos ',\n",
       " 'hellfire peninsula: thrallmar (orc town/wyvern)',\n",
       " \"azuremyst isle: geezle's camp\",\n",
       " 'tanaris: burning alliance ship',\n",
       " 'black morass',\n",
       " 'blasted lands : altar ',\n",
       " 'desolace : shadowprey village ',\n",
       " 'shadowmoon valley : altar of damnation ',\n",
       " 'deadwind pass: sleeping gorge',\n",
       " 'terokkar forest : refugee caravan ',\n",
       " 'loch modan : valley of kings ',\n",
       " 'arena/battlegrounds: battle - arathi basin - alliance',\n",
       " 'nagrand : forge camp: fear ',\n",
       " 'alterac mountains : lordamere internment camp ',\n",
       " \"blade's edge mountains : raven's wood \",\n",
       " 'azuremyst isle : ammen ford ',\n",
       " 'dalaran ruins',\n",
       " 'ironforge : military ward ',\n",
       " \"shattrath city : seer's library \",\n",
       " 'instances woltk : ulduar - halls of lightning ',\n",
       " \"icecrown: death's rise\",\n",
       " 'explore hyjal summit! (leads to alliance base)',\n",
       " 'silverpine forest:    dawning isles',\n",
       " 'coilfang reservoir - serpentshrine cavern  ',\n",
       " 'nagrand pvp arena',\n",
       " 'searing gorge:    blackrock mountain',\n",
       " 'terokkar forest: veil skith',\n",
       " 'stranglethorn vale: booty bay',\n",
       " 'dire maul',\n",
       " \"blade's edge mountains : dragon's end \",\n",
       " \"secret locations: weird flat lands place (quel'thalas?)\",\n",
       " 'instances bc : coilfang reservoir - underbog ',\n",
       " 'top of blackrock mountain',\n",
       " \"karazhan medivh's tower\",\n",
       " \"silithus : valor's rest \",\n",
       " 'hellfire peninsula : valley of bones ',\n",
       " 'alterac mountains: dalaran inside dome',\n",
       " 'black temple - beyond gap',\n",
       " 'nagrand: aeris landing',\n",
       " 'instances : blackrock spire ',\n",
       " 'netherstorm : arklonis ridge ',\n",
       " \"arathi highlands: go'shek farm\",\n",
       " 'netherstorm : invasion point: overlord ',\n",
       " 'eversong woods: stillwhisper pond',\n",
       " 'wetlands : baradin bay ',\n",
       " \"badlands:     apocryphan's rest\",\n",
       " 'burning steppes:    giant orc statue',\n",
       " 'ashenvale : forest song ',\n",
       " \"wetlands : whelgar's excavation site \",\n",
       " \"blade's edge mountains: daggermaw canyon\",\n",
       " 'shadowmoon valley: netherwing ledge',\n",
       " 'grizzly hills: amberpine lodge',\n",
       " 'hinterlands : skulk rock ',\n",
       " \"blade's edge mountains: grishnath\",\n",
       " 'shadowmoon valley : coilskar cistern ',\n",
       " 'instances : dire maul north ',\n",
       " 'azuremyst isle : emberglade ',\n",
       " 'hillsbrad foothills: southshore',\n",
       " 'silvermoon city     ',\n",
       " 'silvermoon city: the sanctum (murder row)',\n",
       " 'barrens : field of giants ',\n",
       " 'instances : stratholme ',\n",
       " 'barrens : northwatch hold ',\n",
       " \"badlands:     agmond's end\",\n",
       " 'nagrand: telaar',\n",
       " 'alterac mountains: uplands',\n",
       " 'ironforge: the commons',\n",
       " 'netherstorm: ruins of farahlon',\n",
       " 'winterspring: winterfall village',\n",
       " \"duskwood:     addle's stead\",\n",
       " 'uldaman',\n",
       " 'thousand needles ',\n",
       " 'bloodmyst isle : foul pool ',\n",
       " 'swamp of sorrows: stonard orc outpost',\n",
       " \"magisters' terrace: magisters' terrace - inside\",\n",
       " 'hellfire peninsula: the path of anguish',\n",
       " '\\t gnomeregan: \\t the clockwerk run',\n",
       " 'western plaguelands : writhing haunt ',\n",
       " 'desolace ',\n",
       " 'ashenvale : talondeep path ',\n",
       " 'badlands:     camp cosh',\n",
       " 'stonetalon mountains : greatwood vale ',\n",
       " 'bloodmyst isle: bloodcurse isle',\n",
       " \"netherstorm : socrethar's seat \",\n",
       " 'azshara: haldarr encampment',\n",
       " \"blade's edge mountains: forge camp: terror\",\n",
       " \"dun morogh:    steelgrill's depot\",\n",
       " 'feralas ruins    ',\n",
       " 'nagrand: lake sunspring',\n",
       " 'silvermoon city : sanctum (murder row) ',\n",
       " 'silverpine forest : dawning isles ',\n",
       " 'shadowmoon valley : sanctum of stars ',\n",
       " 'bloodmyst isle : beryl coast ',\n",
       " 'undercity rogues',\n",
       " 'nagrand: windyreed pass',\n",
       " 'felwood: three frozen ancients',\n",
       " \"blade's edge mountains: gruul's lair entrance\",\n",
       " 'caverns of time: hyjal summit - alliance base',\n",
       " 'silithus : cenarion hold ',\n",
       " 'hellfire citadel - shattered halls',\n",
       " 'ashenvale ',\n",
       " 'unfinished regions : eastern plaguelands unfinished region ',\n",
       " 'ironforge: the mystic ward',\n",
       " 'searing gorge: blackrock mountain south entrance',\n",
       " \"netherstorm : kirin'var village \",\n",
       " 'instances bc : hellfire citadel - hellfire ramparts ',\n",
       " 'nagrand: elemental plateau',\n",
       " \"hinterlands : zun'watha \",\n",
       " \"durotar: sen'jin village\",\n",
       " 'mulgore : venture co. mine entrance ',\n",
       " 'instances : blackfathom deeps ',\n",
       " 'mulgore: tauren camp narache',\n",
       " 'zangarmarsh : portal clearing ',\n",
       " 'instances : deadmines ',\n",
       " \"hellfire peninsula: reaver's fall\",\n",
       " '\\tkarazhan: \\t karazhan netherspace tower',\n",
       " 'nagrand: the twilight ridge',\n",
       " \"shattrath city: world's end tavern\",\n",
       " \"eastern plaguelands: light's hope chapel\",\n",
       " 'durotar: skull rock',\n",
       " 'hellfire citadel: the shattered halls',\n",
       " \"ashenvale : dor'danil barrow den \",\n",
       " \"blade's edge mountains: gronn'bor shrine (ogre town/no fp)\",\n",
       " 'duskwood:     rotting orchard',\n",
       " 'loch modan:    stonewrough dam',\n",
       " 'elwynn forest:    stonefiled farm',\n",
       " 'naxxramas',\n",
       " 'burning steppes: altar of storms',\n",
       " 'eversong woods : dawning lane ',\n",
       " 'elwynn forest : thunder falls ',\n",
       " 'azshara ',\n",
       " 'caverns of time : hyjal summit - night elf village ',\n",
       " 'arathi basin - alliance start',\n",
       " 'the nexus zone: the nexus',\n",
       " 'dun morogh: north gate outpost',\n",
       " 'wetlands ',\n",
       " 'shadowmoon valley : ruins of karabor ',\n",
       " 'ashenvale: raynewood retreat',\n",
       " 'black morass underground entrance ',\n",
       " 'thousand needles: rustmaul dig site\\xa0',\n",
       " 'dustwallow marsh : alcaz island ',\n",
       " \"blade's edge mountains: pvp arena\",\n",
       " 'blackwing lair ',\n",
       " \"blade's edge mountains: boulder'mok\",\n",
       " \"ashenvale: zoram'gar outpost\",\n",
       " \"bloodmyst isle: kessel's crossing\",\n",
       " 'thousand needles: tahonda ruins',\n",
       " \"elwynn forest: forest's edge\",\n",
       " 'azshara : tower of eldara ',\n",
       " 'elwynn forest: westbrook garrison',\n",
       " 'zangarmarsh: swamprat post',\n",
       " 'nagrand : garadar ',\n",
       " \"badlands: the maker's terrace\",\n",
       " 'stonetalon mountains: sunrock retreat',\n",
       " 'moonglade : stormrage barrow dens ',\n",
       " 'mulgore ',\n",
       " 'ghostlands: elrendar crossing',\n",
       " 'azuremyst isle : exodar entrance ',\n",
       " 'eversong woods: the sunspire',\n",
       " 'moonbrook westfall    ',\n",
       " 'outlands - top of black temple',\n",
       " 'bloodmyst isle: ragefeather ridge',\n",
       " 'swamp of sorrows: mistyreed strand',\n",
       " 'azshara crater horde entrance  ',\n",
       " 'moonglade',\n",
       " \"blade's edge mountains: mok'nathal village\",\n",
       " 'elwynn forest : fargodeep mine ',\n",
       " 'azshara: forlorn ridge',\n",
       " 'wetlands : menethil harbor ',\n",
       " 'burning steppes : blackrock mountain north entrance ',\n",
       " \"tirisfal glades: crusader's outpost\",\n",
       " 'wetlands: dun modr',\n",
       " 'undercity : apothecarium ',\n",
       " 'blasted lands: dark portal',\n",
       " 'instances - black morass',\n",
       " 'pv p second badlands portion    ',\n",
       " \"blade's edge mountains : bladespire grounds \",\n",
       " 'scholomance',\n",
       " 'elwynn forest:    northshire vineyards',\n",
       " 'storm peaks: frosthold',\n",
       " 'elwynn forest : jasperlode mine ',\n",
       " 'azshara: thalassian base camp',\n",
       " 'moonglade : nighthaven ',\n",
       " 'eversong woods: duskwither grounds',\n",
       " \"blade's edge mountains: singing ridge\",\n",
       " 'tempest keep - arcatraz  ',\n",
       " 'blackrock spire',\n",
       " 'ashenvale : shrine of aessina ',\n",
       " 'azuremyst isle : wildwind path ',\n",
       " 'durotar : razor hill ',\n",
       " \"shadowmoon valley: warden's cage\",\n",
       " 'grizzly hills: westfall brigade encampment',\n",
       " 'elwynn forest: stonefiled farm',\n",
       " 'elwynn forest:    stormwind cathedral of light',\n",
       " 'inside karazhan',\n",
       " 'badlands:     camp boff',\n",
       " \"ghostlands: zeb'tela\",\n",
       " 'duskwood: raven hill',\n",
       " \"blade's edge mountains   \",\n",
       " 'redridge mountains ',\n",
       " 'westfall: alexston farmstead',\n",
       " 'silvermoon city: the sanctum (the bazaar)',\n",
       " 'hellfire peninsula: the abyssal shelf',\n",
       " 'dun morogh top: ',\n",
       " 'swamp of sorrows    ',\n",
       " \"eastern plaguelands: mazra'alor\",\n",
       " 'redridge mountains: lake everstill',\n",
       " '\\tthe barrens: the merchant cost',\n",
       " 'tanaris: burning pirate ship',\n",
       " 'winterspring: starfall village',\n",
       " '\\tscarlet monastery armory: \\t scarlet monastery armory',\n",
       " \"hellfire peninsula : den of haal'esh \",\n",
       " 'eversong woods: elrendar falls',\n",
       " 'trisfal glades: north coast',\n",
       " 'loch modan: dun algaz',\n",
       " 'arathi highlands : circle of east binding ',\n",
       " 'secret locations: halls of lightning',\n",
       " \"blade's edge mountains : veil ruuan \",\n",
       " 'tempest keep - eye of storm',\n",
       " \"other : zul'gurub stranglethorn vale \",\n",
       " 'auchindoun - auchenai crypts',\n",
       " 'dustwallow marsh : north point tower ',\n",
       " 'hyjal: hyjal',\n",
       " 'westfall lighthouse',\n",
       " '\\thellfire citadel: the blood furnace',\n",
       " 'silverpine forest:    pyrewood village',\n",
       " 'western plaguelands: hearthglenn',\n",
       " \"redridge mountains : render's valley \",\n",
       " \"tirisfal glades: garren's haunt\",\n",
       " 'azshara : bitter reaches ',\n",
       " 'shattrath city - sanctuary - upper',\n",
       " 'thunder bluff: elder rise',\n",
       " '\\tscarlet monastery graveyard: scarlet monastery graveyard',\n",
       " 'ghostlands     ',\n",
       " 'silverpine forest: ambermill',\n",
       " 'dalaran ruins    ',\n",
       " 'bloodmyst isle : crimson reach ',\n",
       " 'ghostlands : thalassian pass ',\n",
       " 'westfall/sentinel hill',\n",
       " 'durotar: bladefist bay',\n",
       " 'mulgore : thunder bluff ',\n",
       " 'uldaman - back entrance',\n",
       " 'desolace : gelkis village ',\n",
       " 'razorfen kraul: razorfen kraul',\n",
       " \"eastern plaguelands: quel'lithien lodge\",\n",
       " 'stonetalon mountains: boulderslide cavern',\n",
       " 'tanaris: sandsorrow watch',\n",
       " 'darkshore: ruins of mathystra',\n",
       " \"zangarmarsh (ango'rosh stronghold)\",\n",
       " 'stonetalon mountains: windshear crag',\n",
       " 'outside hyjal cave',\n",
       " 'undercity    ',\n",
       " 'azuremyst isle: nestlewood hills',\n",
       " 'razorfen downs: \\t razorfen downs',\n",
       " 'eastern plaguelands: the undercroft',\n",
       " 'felwood: bloodvenom post',\n",
       " 'feralas: feralas coast',\n",
       " \"nagrand: mag'hari procession\",\n",
       " 'teldrassil : darnassus ',\n",
       " 'durotar: tiragarde keep',\n",
       " \"dun morogh : gol'bolar quarry \",\n",
       " 'orgrimmar : drag ',\n",
       " 'orgrimmar: valley of strength',\n",
       " \"eastern plaguelands:    tyr's hand\",\n",
       " 'wailing caverns    ',\n",
       " 'barrens merchant coast    ',\n",
       " 'felwood    ',\n",
       " 'moonglade: stormrage barrow dens',\n",
       " 'ashenvale : warsong lumber camp ',\n",
       " 'orgrimmar : valley of spirits ',\n",
       " 'hellfire peninsula : thornfang hill ',\n",
       " 'shadowmoon valley : invasion point: cataclysm ',\n",
       " 'terokkar forest : veil lithic ',\n",
       " \"desolace: nijel's point\",\n",
       " 'ragefire chasm     ',\n",
       " \"instances - blade's edge arena\",\n",
       " 'stonetalon mountains: sun rock retreat',\n",
       " 'badlands: camp kosh',\n",
       " 'outlands - azuremyst isle',\n",
       " 'undercity apothecarium    ',\n",
       " 'nagrand: telaari basin',\n",
       " 'westfall : dust plains ',\n",
       " 'felwood: jaedenar',\n",
       " 'silvermoon city: court of the sun',\n",
       " 'blackrock spire     ',\n",
       " 'wetlands: the lost fleet',\n",
       " 'alterac mountains : dalaran ruins ',\n",
       " 'molten core     ',\n",
       " 'blasted lands : nethergarde keep ',\n",
       " 'uldaman - main entrance   ',\n",
       " 'shattrath city : aldor rise inn ',\n",
       " 'loch modan: stonewrough dam',\n",
       " 'arcatraz',\n",
       " 'azshara : legash encampment ',\n",
       " 'arathi highlands:    boulderfist hall',\n",
       " 'hellfire peninsula: stonescythe canyon',\n",
       " 'netherstorm: celestial ridge',\n",
       " 'thunder bluff: spirit rise',\n",
       " 'terokkar forest: refugee caravan',\n",
       " 'blasted lands : tainted scar ',\n",
       " 'ghostlands : elrendar crossing ',\n",
       " 'ashenvale: silverwind refuge',\n",
       " 'azshara : ursolan ',\n",
       " 'duskwood',\n",
       " \"eversong woods: tor'watha\",\n",
       " \"gruul's lair    \",\n",
       " \"eversong woods : runestone shan'dor \",\n",
       " 'other : stratholme outside ',\n",
       " 'teldrassil: starbreeze village',\n",
       " \"blade's edge mountains : gruul's lair entrance \",\n",
       " 'durotar: dustwind cave',\n",
       " 'duskwood: tranquil gardens cemetery',\n",
       " 'loch modan: wreck from battle',\n",
       " 'azuremyst isle : menagerie wreckage ',\n",
       " 'elwynn forest:    goldshire',\n",
       " 'nagrand: windyreed village',\n",
       " \"ashenvale : master's glaive \",\n",
       " 'blasted lands:    dark portal',\n",
       " \"hinterlands: shadra'alor\",\n",
       " 'blasted lands: altar of storms blasted lands',\n",
       " \"blade's edge mountains: vortex pinnacle - ogri'la\",\n",
       " 'razorfen downs',\n",
       " 'orgrimmar: grommash hold',\n",
       " \"western plaguelands : uther's tomb \",\n",
       " \"isle of quel'danas: the dead scar - q'd\",\n",
       " 'hellfire peninsula : cenarion post ',\n",
       " 'desolace',\n",
       " \"blade's edge mountains : forge camp: wrath \",\n",
       " 'dustwallow marsh: theramore isle',\n",
       " 'tanaris: lost rigger cove',\n",
       " 'ghostlands: deatholme',\n",
       " 'stratholme - service entrance   ',\n",
       " 'tirisfal glades: whispering shore ',\n",
       " 'hellfire peninsula: expedition armory',\n",
       " 'ashenvale: felfire hill',\n",
       " 'bloodmyst isle : wyrmscar island ',\n",
       " 'tirisfal glades: deathknell ',\n",
       " 'exodar : exodar ',\n",
       " 'wintergrasp: wintergrasp',\n",
       " 'silverpine forest: lordamere lake',\n",
       " 'stratholme - main entrance   ',\n",
       " 'hellfire peninsula: dustquill ravine',\n",
       " 'tempest keep - arcatraz',\n",
       " 'hellfire peninsula: the stadium',\n",
       " 'nagrand : elemental plateau ',\n",
       " 'stranglethorn vale ',\n",
       " 'alterac mountains : strahnbrad ',\n",
       " \"blade's edge mountains\",\n",
       " \"blade's edge mountains: bird people village\",\n",
       " 'westfall',\n",
       " \"temple of atal'hakkar   \",\n",
       " 'western plaguelands : darrowmere lake ',\n",
       " 'swamp of sorrows:   stonard orc outpost',\n",
       " 'instances - tempest keep',\n",
       " 'hellfire peninsula: thrallmar',\n",
       " \"ghostlands: zeb'nowa\",\n",
       " 'durotar : echo isles ',\n",
       " 'auchindoun - mana-tombs    ',\n",
       " 'tanaris: the gaping chasm',\n",
       " 'hinterlands:     overlook cliffs',\n",
       " 'desolace: magram village',\n",
       " 'razorfen kraul     ',\n",
       " 'hillsbrad foothills : western strand ',\n",
       " 'ghostlands: underlight mines',\n",
       " 'azshara: jagged reef east',\n",
       " 'terokkar forest : stonebreaker hold ',\n",
       " 'zangarmarsh : darkcrest shore ',\n",
       " 'ghostlands: andilien estate',\n",
       " 'barrens: camp taurajo',\n",
       " 'tirisfal glades: cold hearth manor ',\n",
       " 'trisfal glades:    undercity trade quarter',\n",
       " 'barrens : fray island ',\n",
       " 'stonetalon mountains : sishir canyon ',\n",
       " 'instances - old hyjal',\n",
       " 'stratholme outside',\n",
       " 'zangarmarsh : spawning glen ',\n",
       " 'auchindoun: mana-tombs',\n",
       " 'dragonblight: wyrmrest temple nethestrasz',\n",
       " 'pv p badlands portion    ',\n",
       " 'thousand needles : windbreak canyon ',\n",
       " 'outside alterac valley a',\n",
       " \"tirisfal glades: night web's hollow \",\n",
       " \"hinterlands:     quel'danil night elf lodge\",\n",
       " 'swamp of sorrows : misty valley ',\n",
       " 'hellfire peninsula: honor hold (human town/gryffon)',\n",
       " 'secret locations: halls of stone - endless pit',\n",
       " 'hillsbrad foothills:    durnholde keep',\n",
       " 'auchindoun - auchenai crypts   ',\n",
       " 'zangarmarsh: the lagoon',\n",
       " 'alterac mountains: the uplands',\n",
       " 'azshara : rethress sanctum ',\n",
       " 'ghostlands: thalassian pass',\n",
       " 'shattrath city : bank ',\n",
       " 'hellfire peninsula: razorthorn trail',\n",
       " \"zul'farrak\",\n",
       " \"elwynn forest:    hero's vigil\",\n",
       " \"ahn'qiraj      \",\n",
       " 'karazhan     ',\n",
       " 'netherstorm : vortex fields ',\n",
       " 'azuremyst isle : pod wreckage ',\n",
       " 'durotar : hidden path ',\n",
       " 'winterspring: mazthoril',\n",
       " 'shadowmoon valley: shadowmoon village (unfinished orc town/wyvern)',\n",
       " \"blade's edge mountains: raazan's landing\",\n",
       " 'feralas: the twin colossals',\n",
       " 'black morass underground exit ',\n",
       " 'winterspring : owl wing thicket ',\n",
       " 'stormwind : deeprun tram south ',\n",
       " 'zangarmarsh: marshlight lake',\n",
       " 'eastern plaguelands : terrorweb tunnel ',\n",
       " 'azshara: temple of zin-malor',\n",
       " 'bloodmyst isle',\n",
       " 'darkshore : tower of althalaxx ',\n",
       " 'grizzly hills: camp oneqwah',\n",
       " 'ashenvale: moonwell',\n",
       " 'mulgore : camp narache ',\n",
       " 'elwynn forest: the stonefield farm',\n",
       " 'barrens ',\n",
       " 'coilfang reservoir - underbog  ',\n",
       " 'eastern plaguelands: the marris stead',\n",
       " 'scarlet monastery - library   ',\n",
       " \"silverpine forest:    valgan's field\",\n",
       " 'azshara: horde entrance',\n",
       " 'ashenvale : raynewood retreat ',\n",
       " 'dun morogh : kharanos ',\n",
       " 'nagrand: laughing skull ruins',\n",
       " 'azshara : ruined reaches ',\n",
       " 'netherstorm: sunfury hold',\n",
       " 'silvermoon city : sanctum (bazaar) ',\n",
       " \"bloodmyst isle: tel'athion's camp\",\n",
       " 'searing gorge: stonewrought pass entrance',\n",
       " \"duskwood: beggar's haunt\",\n",
       " 'swamp of sorrows:   fallow sanctuary murloc outpost',\n",
       " 'moonglade: nighthaven',\n",
       " 'dire maul east - main entrance',\n",
       " 'barrens: the crossroads',\n",
       " 'silverpine forest : pyrewood village ',\n",
       " \"nagrand : mag'hari procession \",\n",
       " \"onyxia's lair    \",\n",
       " 'eastern plaguelands : marris stead ',\n",
       " 'nagrand: laughing skull courtyard',\n",
       " 'durotar : thunder ridge ',\n",
       " 'barrens: bael modan',\n",
       " 'terokkar forest : veil skith ',\n",
       " \"zangarmarsh : ango'rosh stronghold \",\n",
       " 'blasted lands: dreadmaul hold',\n",
       " \"blade's edge mountains: raven's wood\",\n",
       " 'naxxramas - main entrance',\n",
       " 'winterspring ice world    ',\n",
       " \"un'goro crater: terror run\",\n",
       " 'dire maul north: dire maul north',\n",
       " 'dun morogh : brewnall village ',\n",
       " 'wetlands',\n",
       " 'badlands : camp cagg ',\n",
       " \"ahn'qiraj: ahn'qiraj\",\n",
       " 'instances bc : karazhan ',\n",
       " 'felwood: deadwood village',\n",
       " 'the oculus: band of variance',\n",
       " 'blasted lands: orc outpost',\n",
       " 'instances bc : black temple ',\n",
       " 'eversong woods: sunstrider isle',\n",
       " 'bloodmyst isle: the foul pool',\n",
       " 'netherstorm : trelleum mine ',\n",
       " 'bloodmyst isle : amberweb pass ',\n",
       " 'thousand needles    ',\n",
       " 'wetlands: grim batol',\n",
       " \"shadowmoon valley : hand of gul'dan \",\n",
       " \"un'goro crater : fungal rock \",\n",
       " 'howling fjord: apothecary camp',\n",
       " 'nagrand : high path ',\n",
       " 'undercity      ',\n",
       " 'eversong woods: tranquil shore',\n",
       " 'zangarmarsh : swamprat post ',\n",
       " 'tirisfal glades: agamand mills ',\n",
       " 'nagrand: the ring of blood',\n",
       " 'azshara: valormok',\n",
       " 'netherstorm : celestial ridge ',\n",
       " 'silvermoon city : murder row ',\n",
       " 'arathi basin ',\n",
       " 'instances - nagrand p v p arena',\n",
       " \"blade's edge mountains: ony cave #2 - probably gruul's lair instance\",\n",
       " 'dun morogh : anvilmar ',\n",
       " 'dustwallow marsh: north point tower',\n",
       " \"westfall : saldean's farm \",\n",
       " 'feralas: feralas island night elf city',\n",
       " 'ashenvale    ',\n",
       " 'arathi highlands : circle of outer binding ',\n",
       " \"blade's edge mountains : bladespire hold \",\n",
       " 'elwynn forest : tower of azora ',\n",
       " 'silvermoon city: murder row',\n",
       " \"arathi highlands:    faldir's cove\",\n",
       " 'ruins of lordaeron (pvp zone) stable',\n",
       " 'alterac mountains: lordamere internment camp',\n",
       " 'alterac mountains:    strahnbrad',\n",
       " 'eversong woods: lake elrendar',\n",
       " \"duskwood : addle's stead \",\n",
       " 'silverpine forest: shadowfang keep',\n",
       " 'nagrand : sunspring post ',\n",
       " 'eversong woods : tranquil shore ',\n",
       " 'hellfire peninsula : expedition point ',\n",
       " 'durotar : kolkar crag ',\n",
       " \"silithus: hive'zora\",\n",
       " 'netherstorm: manaforge ultris',\n",
       " \"un'goro crater\",\n",
       " 'coilfang reservoir - coilfang: slave pens',\n",
       " 'bloodmyst isle: the bloodwash',\n",
       " 'ruins of lordaeron    ',\n",
       " 'ashenvale : nightsong woods ',\n",
       " 'silithus: ravaged twilight camp',\n",
       " 'hellfire peninsula: fallen sky ridge',\n",
       " \"blade's edge mountains : blade tooth canyon \",\n",
       " 'eversong woods: dawning lane',\n",
       " 'dire maul north    ',\n",
       " 'scarlet monastery - armory   ',\n",
       " 'vault of archavon: vault of archavon',\n",
       " \"silithus: gates of ahn'qiraj\",\n",
       " 'azuremyst isle: pod wreckage',\n",
       " 'ghostlands: farstrider enclave',\n",
       " 'netherstorm : manaforge ara ',\n",
       " 'terokkar forest : stonebreaker camp ',\n",
       " ...}"
      ]
     },
     "execution_count": 23,
     "metadata": {},
     "output_type": "execute_result"
    }
   ],
   "source": [
    "set(df_loc_coords[\"Location_Name\"].str.lower())"
   ]
  },
  {
   "cell_type": "markdown",
   "id": "dce6ba67",
   "metadata": {},
   "source": [
    "This data needs first to be cleaned, because We can see that there are strange characters"
   ]
  },
  {
   "cell_type": "markdown",
   "id": "34926650",
   "metadata": {},
   "source": [
    "After the data in both dataframes is clean, We can try again with the nan replace again"
   ]
  },
  {
   "cell_type": "code",
   "execution_count": 24,
   "id": "60c2583e",
   "metadata": {},
   "outputs": [],
   "source": [
    "# df_loc_coords.Map_ID.iloc[2889] = v1\n",
    "# df_loc_coords.Map_ID.iloc[2977] = v2"
   ]
  },
  {
   "cell_type": "markdown",
   "id": "3deb0f1c",
   "metadata": {},
   "source": [
    "## Cleaning the location table"
   ]
  },
  {
   "cell_type": "code",
   "execution_count": 25,
   "id": "fca93bed",
   "metadata": {},
   "outputs": [
    {
     "data": {
      "text/html": [
       "<div>\n",
       "<style scoped>\n",
       "    .dataframe tbody tr th:only-of-type {\n",
       "        vertical-align: middle;\n",
       "    }\n",
       "\n",
       "    .dataframe tbody tr th {\n",
       "        vertical-align: top;\n",
       "    }\n",
       "\n",
       "    .dataframe thead th {\n",
       "        text-align: right;\n",
       "    }\n",
       "</style>\n",
       "<table border=\"1\" class=\"dataframe\">\n",
       "  <thead>\n",
       "    <tr style=\"text-align: right;\">\n",
       "      <th></th>\n",
       "      <th>Map_ID</th>\n",
       "      <th>Location_Type</th>\n",
       "      <th>Location_Name</th>\n",
       "      <th>Game_Version</th>\n",
       "    </tr>\n",
       "  </thead>\n",
       "  <tbody>\n",
       "    <tr>\n",
       "      <th>0</th>\n",
       "      <td>0</td>\n",
       "      <td>Continent</td>\n",
       "      <td>Eastern Kingdoms</td>\n",
       "      <td>WoW</td>\n",
       "    </tr>\n",
       "    <tr>\n",
       "      <th>1</th>\n",
       "      <td>1</td>\n",
       "      <td>Continent</td>\n",
       "      <td>Kalimdor</td>\n",
       "      <td>WoW</td>\n",
       "    </tr>\n",
       "    <tr>\n",
       "      <th>2</th>\n",
       "      <td>530</td>\n",
       "      <td>Continent</td>\n",
       "      <td>Outlands</td>\n",
       "      <td>TBC</td>\n",
       "    </tr>\n",
       "    <tr>\n",
       "      <th>3</th>\n",
       "      <td>571</td>\n",
       "      <td>Continent</td>\n",
       "      <td>Northrend</td>\n",
       "      <td>WLK</td>\n",
       "    </tr>\n",
       "    <tr>\n",
       "      <th>4</th>\n",
       "      <td>646</td>\n",
       "      <td>Continent</td>\n",
       "      <td>Deepholm</td>\n",
       "      <td>CAT</td>\n",
       "    </tr>\n",
       "    <tr>\n",
       "      <th>5</th>\n",
       "      <td>732</td>\n",
       "      <td>Continent</td>\n",
       "      <td>Tol Barad</td>\n",
       "      <td>CAT</td>\n",
       "    </tr>\n",
       "    <tr>\n",
       "      <th>6</th>\n",
       "      <td>870</td>\n",
       "      <td>Continent</td>\n",
       "      <td>Pandaria</td>\n",
       "      <td>MoP</td>\n",
       "    </tr>\n",
       "    <tr>\n",
       "      <th>7</th>\n",
       "      <td>1064</td>\n",
       "      <td>Continent</td>\n",
       "      <td>Mogu Island Daily Area (Isle of Thunder)</td>\n",
       "      <td>MoP</td>\n",
       "    </tr>\n",
       "    <tr>\n",
       "      <th>8</th>\n",
       "      <td>1116</td>\n",
       "      <td>Continent</td>\n",
       "      <td>Draenor</td>\n",
       "      <td>WoD</td>\n",
       "    </tr>\n",
       "    <tr>\n",
       "      <th>9</th>\n",
       "      <td>1191</td>\n",
       "      <td>Continent</td>\n",
       "      <td>Ashran</td>\n",
       "      <td>WoD</td>\n",
       "    </tr>\n",
       "  </tbody>\n",
       "</table>\n",
       "</div>"
      ],
      "text/plain": [
       "   Map_ID Location_Type                             Location_Name Game_Version\n",
       "0       0     Continent                          Eastern Kingdoms          WoW\n",
       "1       1     Continent                                  Kalimdor          WoW\n",
       "2     530     Continent                                  Outlands          TBC\n",
       "3     571     Continent                                 Northrend          WLK\n",
       "4     646     Continent                                  Deepholm          CAT\n",
       "5     732     Continent                                 Tol Barad          CAT\n",
       "6     870     Continent                                  Pandaria          MoP\n",
       "7    1064     Continent  Mogu Island Daily Area (Isle of Thunder)          MoP\n",
       "8    1116     Continent                                   Draenor          WoD\n",
       "9    1191     Continent                                    Ashran          WoD"
      ]
     },
     "execution_count": 25,
     "metadata": {},
     "output_type": "execute_result"
    }
   ],
   "source": [
    "df_location.head(10)"
   ]
  },
  {
   "cell_type": "markdown",
   "id": "1c986b1d",
   "metadata": {},
   "source": [
    "We can correct the values in Game_Version with our eyes because there is fewer values:"
   ]
  },
  {
   "cell_type": "code",
   "execution_count": 26,
   "id": "a503703d",
   "metadata": {},
   "outputs": [
    {
     "data": {
      "text/plain": [
       "array(['WoW', 'TBC', 'WLK', 'CAT', 'MoP', 'WoD'], dtype=object)"
      ]
     },
     "execution_count": 26,
     "metadata": {},
     "output_type": "execute_result"
    }
   ],
   "source": [
    "df_location.Game_Version.unique()"
   ]
  },
  {
   "cell_type": "markdown",
   "id": "37dc2d72",
   "metadata": {},
   "source": [
    "I suposse that 'WoW' makes reference to Vanilla WoW, (the game without expansions)"
   ]
  },
  {
   "cell_type": "markdown",
   "id": "1b1c4b1a",
   "metadata": {},
   "source": [
    "How to filter which values have strange characters in the column Location and Location_type?"
   ]
  },
  {
   "cell_type": "code",
   "execution_count": 65,
   "id": "c58fbd4a",
   "metadata": {},
   "outputs": [],
   "source": [
    "from string import punctuation, whitespace, ascii_letters, digits"
   ]
  },
  {
   "cell_type": "code",
   "execution_count": 28,
   "id": "9ec2c6c7",
   "metadata": {},
   "outputs": [
    {
     "data": {
      "text/plain": [
       "'!\"#$%&\\'()*+,-./:;<=>?@[\\\\]^_`{|}~'"
      ]
     },
     "execution_count": 28,
     "metadata": {},
     "output_type": "execute_result"
    }
   ],
   "source": [
    "punctuation"
   ]
  },
  {
   "cell_type": "code",
   "execution_count": 29,
   "id": "9e856825",
   "metadata": {},
   "outputs": [
    {
     "data": {
      "text/plain": [
       "' \\t\\n\\r\\x0b\\x0c'"
      ]
     },
     "execution_count": 29,
     "metadata": {},
     "output_type": "execute_result"
    }
   ],
   "source": [
    "whitespace"
   ]
  },
  {
   "cell_type": "code",
   "execution_count": 30,
   "id": "d10e7a24",
   "metadata": {},
   "outputs": [
    {
     "data": {
      "text/plain": [
       "'abcdefghijklmnopqrstuvwxyzABCDEFGHIJKLMNOPQRSTUVWXYZ'"
      ]
     },
     "execution_count": 30,
     "metadata": {},
     "output_type": "execute_result"
    }
   ],
   "source": [
    "ascii_letters"
   ]
  },
  {
   "cell_type": "markdown",
   "id": "829bd9b9",
   "metadata": {},
   "source": [
    "I suposse there is no string values with the character \"´\". But We can check it:"
   ]
  },
  {
   "cell_type": "code",
   "execution_count": 31,
   "id": "bc13fc1d",
   "metadata": {},
   "outputs": [
    {
     "data": {
      "text/plain": [
       "{'ó'}"
      ]
     },
     "execution_count": 31,
     "metadata": {},
     "output_type": "execute_result"
    }
   ],
   "source": [
    "set(\"Adiós\").intersection( set(\"áéíóúÁÉÍÓÚ\"))"
   ]
  },
  {
   "cell_type": "code",
   "execution_count": 32,
   "id": "636b53f5",
   "metadata": {},
   "outputs": [
    {
     "data": {
      "text/plain": [
       "Map_ID           False\n",
       "Location_Type    False\n",
       "Location_Name    False\n",
       "Game_Version     False\n",
       "dtype: bool"
      ]
     },
     "execution_count": 32,
     "metadata": {},
     "output_type": "execute_result"
    }
   ],
   "source": [
    "df_location.apply(lambda s: True if set(s).intersection( set(\"áéíóúÁÉÍÓÚ\")) else False )"
   ]
  },
  {
   "cell_type": "code",
   "execution_count": 33,
   "id": "38fdc4bf",
   "metadata": {
    "scrolled": true
   },
   "outputs": [
    {
     "data": {
      "text/plain": [
       "Map_ID           False\n",
       "Location_Type    False\n",
       "Location_Name    False\n",
       "Game_Version     False\n",
       "dtype: bool"
      ]
     },
     "execution_count": 33,
     "metadata": {},
     "output_type": "execute_result"
    }
   ],
   "source": [
    "df_location.apply(lambda s: True if set(s).intersection( set(punctuation)) else False )"
   ]
  },
  {
   "cell_type": "markdown",
   "id": "6b154345",
   "metadata": {},
   "source": [
    "Let's filter all the strange characters in Location_Name column"
   ]
  },
  {
   "cell_type": "code",
   "execution_count": 34,
   "id": "bda2bedc",
   "metadata": {
    "scrolled": true
   },
   "outputs": [
    {
     "data": {
      "text/plain": [
       "array(['Eastern Kingdoms', 'Kalimdor', 'Outlands', 'Northrend',\n",
       "       'Deepholm', 'Tol Barad', 'Pandaria',\n",
       "       'Mogu Island Daily Area (Isle of Thunder)', 'Draenor', 'Ashran',\n",
       "       'Tanaan Jungle Intro', 'Tanaan Jungle', \"Blade's Edge Arena\",\n",
       "       'Dalaran Arena', 'Nagrand Arena', 'Ruins of Lordaeron',\n",
       "       'The Ring of Valor', \"The Tiger's Peak\", \"Tol'Viron Arena\",\n",
       "       'Alterac Valley', 'Arathi Basin', 'Deepwind Gorge',\n",
       "       'Eye of the Storm', 'Eye of the Storm (Rated)', 'Isle of Conquest',\n",
       "       'Silvershard Mines', 'Strand of the Ancients', 'Temple of Kotmogu',\n",
       "       'The Battle for Gilneas', 'Twin Peaks', 'Warsong Gulch',\n",
       "       'FW Horde Garrison Level 1', 'FW Horde Garrison Level 2',\n",
       "       'FW Horde Garrison Level 3', 'FW Horde Garrison Level 4',\n",
       "       'SMV Alliance Garrison Level 1', 'SMV Alliance Garrison Level 2',\n",
       "       'SMV Alliance Garrison Level 3', 'SMV Alliance Garrison Level 4',\n",
       "       'Blackfathom Deeps', 'Blackrock Depths', 'Blackrock Spire',\n",
       "       'Dire Maul', 'Gnomeregan', 'Maraudon', 'Ragefire Chasm',\n",
       "       'Razorfen Downs', 'Razorfen Kraul', 'Scarlet Monastery',\n",
       "       'Scholomance', 'Shadowfang Keep', 'Stratholme', 'The Deadmines',\n",
       "       'The Stockade', \"The Temple of Atal'Hakkar\", 'Uldaman',\n",
       "       'Wailing Caverns', \"Zul'Farrak\", 'Blackwing Lair', 'Molten Core',\n",
       "       \"Ruins of Ahn'Qiraj\", \"Temple of Ahn'Qiraj\", 'Auchenai Crypts',\n",
       "       'Hellfire Ramparts', \"Magisters' Terrace\", 'Mana-Tombs',\n",
       "       'Old Hillsbrad Foothills', 'Sethekk Halls', 'Shadow Labyrinth',\n",
       "       'The Arcatraz', 'The Black Morass', 'The Blood Furnace',\n",
       "       'The Botanica', 'The Mechanar', 'The Shattered Halls',\n",
       "       'The Slave Pens', 'The Steamvault', 'The Underbog', 'Black Temple',\n",
       "       \"Gruul's Lair\", 'Hyjal Summit', 'Karazhan', \"Magtheridon's Lair\",\n",
       "       'Serpentshrine Cavern', 'Sunwell Plateau', 'The Eye',\n",
       "       \"Ahn'kahet: The Old Kingdom\", 'Azjol-Nerub', \"Drak'Tharon Keep\",\n",
       "       'Gundrak', 'Halls of Lightning', 'Halls of Reflection',\n",
       "       'Halls of Stone', 'Pit of Saron', 'The Culling of Stratholme',\n",
       "       'The Forge of Souls', 'The Nexus', 'The Oculus', 'The Violet Hold',\n",
       "       'Trial of the Champion', 'Utgarde Keep', 'Utgarde Pinnacle',\n",
       "       'Icecrown Citadel', 'Naxxramas', \"Onyxia's Lair\",\n",
       "       'The Eye of Eternity', 'The Obsidian Sanctum', 'The Ruby Sanctum',\n",
       "       'Trial of the Crusader', 'Ulduar', 'Vault of Archavon',\n",
       "       'Blackrock Caverns', 'End Time', 'Grim Batol',\n",
       "       'Halls of Origination', 'Hour of Twilight',\n",
       "       \"Lost City of the Tol'vir\", 'The Stonecore', 'The Vortex Pinnacle',\n",
       "       'Throne of the Tides', 'Well of Eternity', \"Zul'Aman\", \"Zul'Gurub\",\n",
       "       'Baradin Hold', 'Blackwing Descent', 'Dragon Soul', 'Firelands',\n",
       "       'The Bastion of Twilight', 'Throne of the Four Winds',\n",
       "       'Gate of the Setting Sun<U+00A0>', \"Mogu'Shan Palace<U+00A0>\",\n",
       "       'Shado-pan Monastery<U+00A0>', 'Siege of Niuzao Temple<U+00A0>',\n",
       "       'Stormstout Brewery<U+00A0>', 'Temple of the Jade Serpent<U+00A0>',\n",
       "       'Heart of Fear<U+00A0>', \"Mogu'shan Vaults<U+00A0>\",\n",
       "       'Siege of Orgrimmar<U+00A0>', 'Terrace of Endless Spring<U+00A0>',\n",
       "       'Throne of Thunder<U+00A0>', 'Auchindoun<U+00A0>',\n",
       "       'Bloodmaul Slag Mines<U+00A0>', 'Grimrail Depot<U+00A0>',\n",
       "       'Iron Docks<U+00A0>', 'Shadowmoon Burial Grounds<U+00A0>',\n",
       "       'Skyreach<U+00A0>', 'The Everbloom<U+00A0>',\n",
       "       'Upper Blackrock Spire<U+00A0>', 'Highmaul<U+00A0>',\n",
       "       'Blackrock Foundry<U+00A0>', 'Hellfire Citadel<U+00A0>'],\n",
       "      dtype=object)"
      ]
     },
     "execution_count": 34,
     "metadata": {},
     "output_type": "execute_result"
    }
   ],
   "source": [
    "df_location.Location_Name.unique()"
   ]
  },
  {
   "cell_type": "markdown",
   "id": "a6b39cfd",
   "metadata": {},
   "source": [
    "We can observe that there is the character <U+00A0>. Let's eliminate this character:"
   ]
  },
  {
   "cell_type": "code",
   "execution_count": 35,
   "id": "7b4e622c",
   "metadata": {},
   "outputs": [],
   "source": [
    "def filter_tags(_s):\n",
    "    \"\"\"Eliminates tags from a string\n",
    "    _s: string to filter\n",
    "    return: string without tags\"\"\"\n",
    "    aux = []\n",
    "    tag = False\n",
    "    for c in _s:\n",
    "        if(c == \"<\"):\n",
    "            tag = True\n",
    "            continue\n",
    "        if(c == \">\"):\n",
    "            tag = False\n",
    "            continue\n",
    "        \n",
    "        if(tag):\n",
    "            continue\n",
    "        else:\n",
    "            aux.append(c)\n",
    "    return \"\".join(aux)\n",
    "        "
   ]
  },
  {
   "cell_type": "markdown",
   "id": "fca78dee",
   "metadata": {},
   "source": [
    "We check if the function works"
   ]
  },
  {
   "cell_type": "code",
   "execution_count": 36,
   "id": "81f3df67",
   "metadata": {},
   "outputs": [
    {
     "data": {
      "text/plain": [
       "'Hellfire Citadel'"
      ]
     },
     "execution_count": 36,
     "metadata": {},
     "output_type": "execute_result"
    }
   ],
   "source": [
    "filter_tags(\"Hellfire Citadel<U+00A0>\")"
   ]
  },
  {
   "cell_type": "code",
   "execution_count": 37,
   "id": "0579dd3c",
   "metadata": {},
   "outputs": [],
   "source": [
    "df_location[\"Location_Name\"] = df_location[\"Location_Name\"].apply(filter_tags)"
   ]
  },
  {
   "cell_type": "code",
   "execution_count": 38,
   "id": "a048ec05",
   "metadata": {},
   "outputs": [
    {
     "data": {
      "text/plain": [
       "array(['Eastern Kingdoms', 'Kalimdor', 'Outlands', 'Northrend',\n",
       "       'Deepholm', 'Tol Barad', 'Pandaria',\n",
       "       'Mogu Island Daily Area (Isle of Thunder)', 'Draenor', 'Ashran',\n",
       "       'Tanaan Jungle Intro', 'Tanaan Jungle', \"Blade's Edge Arena\",\n",
       "       'Dalaran Arena', 'Nagrand Arena', 'Ruins of Lordaeron',\n",
       "       'The Ring of Valor', \"The Tiger's Peak\", \"Tol'Viron Arena\",\n",
       "       'Alterac Valley', 'Arathi Basin', 'Deepwind Gorge',\n",
       "       'Eye of the Storm', 'Eye of the Storm (Rated)', 'Isle of Conquest',\n",
       "       'Silvershard Mines', 'Strand of the Ancients', 'Temple of Kotmogu',\n",
       "       'The Battle for Gilneas', 'Twin Peaks', 'Warsong Gulch',\n",
       "       'FW Horde Garrison Level 1', 'FW Horde Garrison Level 2',\n",
       "       'FW Horde Garrison Level 3', 'FW Horde Garrison Level 4',\n",
       "       'SMV Alliance Garrison Level 1', 'SMV Alliance Garrison Level 2',\n",
       "       'SMV Alliance Garrison Level 3', 'SMV Alliance Garrison Level 4',\n",
       "       'Blackfathom Deeps', 'Blackrock Depths', 'Blackrock Spire',\n",
       "       'Dire Maul', 'Gnomeregan', 'Maraudon', 'Ragefire Chasm',\n",
       "       'Razorfen Downs', 'Razorfen Kraul', 'Scarlet Monastery',\n",
       "       'Scholomance', 'Shadowfang Keep', 'Stratholme', 'The Deadmines',\n",
       "       'The Stockade', \"The Temple of Atal'Hakkar\", 'Uldaman',\n",
       "       'Wailing Caverns', \"Zul'Farrak\", 'Blackwing Lair', 'Molten Core',\n",
       "       \"Ruins of Ahn'Qiraj\", \"Temple of Ahn'Qiraj\", 'Auchenai Crypts',\n",
       "       'Hellfire Ramparts', \"Magisters' Terrace\", 'Mana-Tombs',\n",
       "       'Old Hillsbrad Foothills', 'Sethekk Halls', 'Shadow Labyrinth',\n",
       "       'The Arcatraz', 'The Black Morass', 'The Blood Furnace',\n",
       "       'The Botanica', 'The Mechanar', 'The Shattered Halls',\n",
       "       'The Slave Pens', 'The Steamvault', 'The Underbog', 'Black Temple',\n",
       "       \"Gruul's Lair\", 'Hyjal Summit', 'Karazhan', \"Magtheridon's Lair\",\n",
       "       'Serpentshrine Cavern', 'Sunwell Plateau', 'The Eye',\n",
       "       \"Ahn'kahet: The Old Kingdom\", 'Azjol-Nerub', \"Drak'Tharon Keep\",\n",
       "       'Gundrak', 'Halls of Lightning', 'Halls of Reflection',\n",
       "       'Halls of Stone', 'Pit of Saron', 'The Culling of Stratholme',\n",
       "       'The Forge of Souls', 'The Nexus', 'The Oculus', 'The Violet Hold',\n",
       "       'Trial of the Champion', 'Utgarde Keep', 'Utgarde Pinnacle',\n",
       "       'Icecrown Citadel', 'Naxxramas', \"Onyxia's Lair\",\n",
       "       'The Eye of Eternity', 'The Obsidian Sanctum', 'The Ruby Sanctum',\n",
       "       'Trial of the Crusader', 'Ulduar', 'Vault of Archavon',\n",
       "       'Blackrock Caverns', 'End Time', 'Grim Batol',\n",
       "       'Halls of Origination', 'Hour of Twilight',\n",
       "       \"Lost City of the Tol'vir\", 'The Stonecore', 'The Vortex Pinnacle',\n",
       "       'Throne of the Tides', 'Well of Eternity', \"Zul'Aman\", \"Zul'Gurub\",\n",
       "       'Baradin Hold', 'Blackwing Descent', 'Dragon Soul', 'Firelands',\n",
       "       'The Bastion of Twilight', 'Throne of the Four Winds',\n",
       "       'Gate of the Setting Sun', \"Mogu'Shan Palace\",\n",
       "       'Shado-pan Monastery', 'Siege of Niuzao Temple',\n",
       "       'Stormstout Brewery', 'Temple of the Jade Serpent',\n",
       "       'Heart of Fear', \"Mogu'shan Vaults\", 'Siege of Orgrimmar',\n",
       "       'Terrace of Endless Spring', 'Throne of Thunder', 'Auchindoun',\n",
       "       'Bloodmaul Slag Mines', 'Grimrail Depot', 'Iron Docks',\n",
       "       'Shadowmoon Burial Grounds', 'Skyreach', 'The Everbloom',\n",
       "       'Upper Blackrock Spire', 'Highmaul', 'Blackrock Foundry',\n",
       "       'Hellfire Citadel'], dtype=object)"
      ]
     },
     "execution_count": 38,
     "metadata": {},
     "output_type": "execute_result"
    }
   ],
   "source": [
    "df_location[\"Location_Name\"].unique()"
   ]
  },
  {
   "cell_type": "markdown",
   "id": "84f3a7f2",
   "metadata": {},
   "source": [
    "Let's see which unique characters there is in the column names, to detect which characters are not wanted"
   ]
  },
  {
   "cell_type": "code",
   "execution_count": 39,
   "id": "830672f9",
   "metadata": {},
   "outputs": [
    {
     "name": "stdout",
     "output_type": "stream",
     "text": [
      "{'u', 'o', 'p', 'y', '-', 'N', '(', 'f', 'a', 'K', 'S', 'v', 'H', 'x', 'w', 'R', 'q', 'Q', 'B', '4', \"'\", 'e', 'g', 'I', 'L', 'J', 'd', 'Z', 't', 'c', 'b', 'z', 'j', 'A', 'F', ')', ' ', '3', 'l', 'U', 'h', 'C', 'D', 'W', 'V', 'r', 'i', 'M', 'G', '1', '2', 's', 'E', 'n', 'T', 'k', 'O', ':', 'P', 'm'}\n"
     ]
    }
   ],
   "source": [
    "letters_in_col = []\n",
    "for letters in df_location[\"Location_Name\"].apply(set):\n",
    "    letters_in_col.extend(letters)\n",
    "letters_in_col = set(letters_in_col)\n",
    "print(letters_in_col)"
   ]
  },
  {
   "cell_type": "code",
   "execution_count": 40,
   "id": "6d3a8ce9",
   "metadata": {},
   "outputs": [
    {
     "data": {
      "text/plain": [
       "{' ', \"'\", '(', ')', '-', '1', '2', '3', '4', ':'}"
      ]
     },
     "execution_count": 40,
     "metadata": {},
     "output_type": "execute_result"
    }
   ],
   "source": [
    "letters_in_col - set(ascii_letters)"
   ]
  },
  {
   "cell_type": "markdown",
   "id": "7b978c39",
   "metadata": {},
   "source": [
    "The character ' ' and ' have sense in a name, but let's see which are the names with the rest of the strange characters found:"
   ]
  },
  {
   "cell_type": "code",
   "execution_count": 41,
   "id": "2533a862",
   "metadata": {},
   "outputs": [],
   "source": [
    "strange_char = {'(', ')', '-', '1', '2', '3', '4', ':'}\n",
    "mask = df_location[\"Location_Name\"].apply(lambda s: True if(strange_char.intersection(set(s))) else False)"
   ]
  },
  {
   "cell_type": "code",
   "execution_count": 42,
   "id": "dcded58c",
   "metadata": {},
   "outputs": [
    {
     "data": {
      "text/plain": [
       "7      Mogu Island Daily Area (Isle of Thunder)\n",
       "23                     Eye of the Storm (Rated)\n",
       "31                    FW Horde Garrison Level 1\n",
       "32                    FW Horde Garrison Level 2\n",
       "33                    FW Horde Garrison Level 3\n",
       "34                    FW Horde Garrison Level 4\n",
       "35                SMV Alliance Garrison Level 1\n",
       "36                SMV Alliance Garrison Level 2\n",
       "37                SMV Alliance Garrison Level 3\n",
       "38                SMV Alliance Garrison Level 4\n",
       "65                                   Mana-Tombs\n",
       "86                   Ahn'kahet: The Old Kingdom\n",
       "87                                  Azjol-Nerub\n",
       "131                         Shado-pan Monastery\n",
       "Name: Location_Name, dtype: object"
      ]
     },
     "execution_count": 42,
     "metadata": {},
     "output_type": "execute_result"
    }
   ],
   "source": [
    "df_location[mask].Location_Name"
   ]
  },
  {
   "cell_type": "markdown",
   "id": "c4ba43d6",
   "metadata": {},
   "source": [
    "It seems that all them are correct, so we finished the transformation of the values in this column (Location_Name)"
   ]
  },
  {
   "cell_type": "markdown",
   "id": "9e731e9a",
   "metadata": {},
   "source": [
    "Let's do the same for the same for the same column in the dataset with the coordenates (df_loc_coords):"
   ]
  },
  {
   "cell_type": "code",
   "execution_count": 43,
   "id": "78306203",
   "metadata": {},
   "outputs": [
    {
     "data": {
      "text/plain": [
       "array(['Eastern Kingdom: Ironforge Airport',\n",
       "       'Eastern Kingdom: Wetlands Mountain Camp',\n",
       "       'Eastern Kingdom: Dun Morogh plane camp', ...,\n",
       "       'Hellfire Peninsula/The Stair of Destiny',\n",
       "       'Shadowmoon Valley/Wildhammer Stronghold',\n",
       "       \"Blade's Edge Mountains/Toshley's Station\"], dtype=object)"
      ]
     },
     "execution_count": 43,
     "metadata": {},
     "output_type": "execute_result"
    }
   ],
   "source": [
    "df_loc_coords[\"Location_Name\"].unique()"
   ]
  },
  {
   "cell_type": "code",
   "execution_count": 44,
   "id": "f2f33a0b",
   "metadata": {},
   "outputs": [],
   "source": [
    "df_loc_coords[\"Location_Name\"] = df_loc_coords[\"Location_Name\"].apply(filter_tags)"
   ]
  },
  {
   "cell_type": "code",
   "execution_count": 45,
   "id": "5234b158",
   "metadata": {
    "scrolled": true
   },
   "outputs": [
    {
     "name": "stdout",
     "output_type": "stream",
     "text": [
      "{'!', '-', '(', '4', '.', ',', \"'\", '/', '8', '7', ')', ' ', '3', '#', '&', '1', '\\t', '5', '2', ':', '?', '0', '\\xa0'}\n"
     ]
    }
   ],
   "source": [
    "letters_in_col = []\n",
    "for letters in df_loc_coords[\"Location_Name\"].apply(set):\n",
    "    letters_in_col.extend(letters)\n",
    "letters_in_col = set(letters_in_col)\n",
    "strange_char = letters_in_col - set(ascii_letters)\n",
    "print(strange_char)"
   ]
  },
  {
   "cell_type": "code",
   "execution_count": 46,
   "id": "25939136",
   "metadata": {},
   "outputs": [],
   "source": [
    "strange_char = strange_char - set([' ', \"'\"])"
   ]
  },
  {
   "cell_type": "code",
   "execution_count": 47,
   "id": "a56564e6",
   "metadata": {},
   "outputs": [],
   "source": [
    "mask = df_loc_coords[\"Location_Name\"].apply(lambda s: True if(strange_char.intersection(set(s))) else False)"
   ]
  },
  {
   "cell_type": "code",
   "execution_count": 48,
   "id": "b4a17841",
   "metadata": {},
   "outputs": [
    {
     "data": {
      "text/plain": [
       "0             Eastern Kingdom: Ironforge Airport\n",
       "1        Eastern Kingdom: Wetlands Mountain Camp\n",
       "2         Eastern Kingdom: Dun Morogh plane camp\n",
       "3                     Eastern Kingdom: Undercity\n",
       "4                Eastern Kingdom: Stormwind City\n",
       "                          ...                   \n",
       "3804         Terokkar Forest/Allerian Stronghold\n",
       "3805     Hellfire Peninsula/The Stair of Destiny\n",
       "3806     Shadowmoon Valley/Wildhammer Stronghold\n",
       "3807    Blade's Edge Mountains/Toshley's Station\n",
       "3808                    Azshara: Talrendis Point\n",
       "Name: Location_Name, Length: 3156, dtype: object"
      ]
     },
     "execution_count": 48,
     "metadata": {},
     "output_type": "execute_result"
    }
   ],
   "source": [
    "df_loc_coords[mask].Location_Name"
   ]
  },
  {
   "cell_type": "markdown",
   "id": "44b024b6",
   "metadata": {},
   "source": [
    "There are too many values with those strange characters. That's why We will continue this cleaning task by "
   ]
  },
  {
   "cell_type": "markdown",
   "id": "f383cd1a",
   "metadata": {},
   "source": [
    "'\\xa0' is a non-breakable space character in latin-1, so We will substitute it by a space"
   ]
  },
  {
   "cell_type": "code",
   "execution_count": 49,
   "id": "2377bf91",
   "metadata": {},
   "outputs": [
    {
     "data": {
      "text/plain": [
       "'hola '"
      ]
     },
     "execution_count": 49,
     "metadata": {},
     "output_type": "execute_result"
    }
   ],
   "source": [
    "\"hola\\xa0\".replace(\"\\xa0\", \" \")"
   ]
  },
  {
   "cell_type": "code",
   "execution_count": 50,
   "id": "60475ce8",
   "metadata": {},
   "outputs": [],
   "source": [
    "df_loc_coords[\"Location_Name\"] = df_loc_coords[\"Location_Name\"].apply(lambda s: s.replace(\"\\xa0\", \" \"))"
   ]
  },
  {
   "cell_type": "markdown",
   "id": "490eb018",
   "metadata": {},
   "source": [
    "Similar with \"\\t\" which is the tab character it will be replaced by a space"
   ]
  },
  {
   "cell_type": "code",
   "execution_count": 51,
   "id": "5092753e",
   "metadata": {},
   "outputs": [],
   "source": [
    "df_loc_coords[\"Location_Name\"] = df_loc_coords[\"Location_Name\"].apply(lambda s: s.replace(\"\\t\", \" \"))"
   ]
  },
  {
   "cell_type": "code",
   "execution_count": 52,
   "id": "04852f25",
   "metadata": {},
   "outputs": [
    {
     "data": {
      "text/plain": [
       "[\"Blade's Edge Mountains: Ony Cave #2 - Probably Gruul's Lair instance\"]"
      ]
     },
     "execution_count": 52,
     "metadata": {},
     "output_type": "execute_result"
    }
   ],
   "source": [
    "mask = df_loc_coords[\"Location_Name\"].apply(lambda s: True if(set(\"#\").intersection(set(s))) else False)\n",
    "#the cast to list is made so all the full string is displayed\n",
    "list(df_loc_coords[mask].Location_Name)"
   ]
  },
  {
   "cell_type": "markdown",
   "id": "b0b53445",
   "metadata": {},
   "source": [
    "Seeing this value it looks like We can replace it by nothing"
   ]
  },
  {
   "cell_type": "code",
   "execution_count": 53,
   "id": "9e7db076",
   "metadata": {},
   "outputs": [],
   "source": [
    "df_loc_coords[\"Location_Name\"] = df_loc_coords[\"Location_Name\"].apply(lambda s: s.replace(\"#\", \"\"))"
   ]
  },
  {
   "cell_type": "code",
   "execution_count": 58,
   "id": "ce839e71",
   "metadata": {},
   "outputs": [],
   "source": [
    "strange_char = strange_char - set(['\\xa0', \"\\t\", \"#\"])"
   ]
  },
  {
   "cell_type": "markdown",
   "id": "e90be4ab",
   "metadata": {},
   "source": [
    "We now look is the string values that contain the characters \"!\" and \"?\", are well written"
   ]
  },
  {
   "cell_type": "code",
   "execution_count": 59,
   "id": "7242dd38",
   "metadata": {},
   "outputs": [
    {
     "data": {
      "text/plain": [
       "[\"Secret Locations: Weird Flat Lands Place (Quel'thalas?)\",\n",
       " 'Explore Hyjal Summit! (Leads to Alliance Base)',\n",
       " \"Secret Locations: Mountains in Flat Lands (Quel'thalas?)\",\n",
       " 'Secret Locations: Naxxramas?',\n",
       " 'Secret Locations: Unfinished Dalaran?']"
      ]
     },
     "execution_count": 59,
     "metadata": {},
     "output_type": "execute_result"
    }
   ],
   "source": [
    "mask = df_loc_coords[\"Location_Name\"].apply(lambda s: True if(set(\"!?\").intersection(set(s))) else False)\n",
    "#the cast to list is made so all the full string is displayed\n",
    "list(df_loc_coords[mask].Location_Name)"
   ]
  },
  {
   "cell_type": "markdown",
   "id": "7291273d",
   "metadata": {},
   "source": [
    "Seems like they are"
   ]
  },
  {
   "cell_type": "code",
   "execution_count": 60,
   "id": "181775ec",
   "metadata": {},
   "outputs": [],
   "source": [
    "strange_char = strange_char - set(['!', \"?\"])"
   ]
  },
  {
   "cell_type": "code",
   "execution_count": 66,
   "id": "af311044",
   "metadata": {},
   "outputs": [
    {
     "data": {
      "text/plain": [
       "{'0', '1', '2', '3', '4', '5', '7', '8'}"
      ]
     },
     "execution_count": 66,
     "metadata": {},
     "output_type": "execute_result"
    }
   ],
   "source": [
    "#We select the numberic values that there are in our strange values\n",
    "num_chars = set(digits).intersection(strange_char)\n",
    "num_chars"
   ]
  },
  {
   "cell_type": "code",
   "execution_count": 68,
   "id": "556e9c70",
   "metadata": {},
   "outputs": [
    {
     "data": {
      "text/plain": [
       "['Dire Maul West - Entrance 1 ',\n",
       " 'Dire Maul West - Entrance 2 ',\n",
       " 'Netherstorm : Area 52 ',\n",
       " 'Netherstorm: Area 52 (Goblin Town/No FP)',\n",
       " 'Netherstorm: Eye of Storm (40-man Instance for Tempest Keep)',\n",
       " \"Blade's Edge Mountains: Ony Cave 2 - Probably Gruul's Lair instance\",\n",
       " 'Dire Maul West - Entrance 1',\n",
       " 'Dire Maul West - Entrance 2',\n",
       " 'Nagrand Arena PVPZone05',\n",
       " 'Secret Locations: Nexus Level 80 - Inside Dalaran Bubble',\n",
       " 'Secret Locations: Nexus Level 70 - Maelstrom',\n",
       " 'Secret Locations: Nexus Level 70 - Matrix Style Room',\n",
       " 'Secret Locations: Nexus Level 70 - Crystal Forest',\n",
       " 'Secret Locations: Nexus Level 70 - Dragons Room',\n",
       " 'Netherstorm: Area 52',\n",
       " 'Storm Peaks: K3']"
      ]
     },
     "execution_count": 68,
     "metadata": {},
     "output_type": "execute_result"
    }
   ],
   "source": [
    "mask = df_loc_coords[\"Location_Name\"].apply(lambda s: True if(num_chars.intersection(set(s))) else False)\n",
    "list(df_loc_coords[mask][\"Location_Name\"])"
   ]
  },
  {
   "cell_type": "markdown",
   "id": "15101bbe",
   "metadata": {},
   "source": [
    "Reading all these values We can see that the value 'Nagrand Arena PVPZone05' looks like is not well spelled.\n",
    "So we can change that value for 'Nagrand Arena PVP Zone 5'. This can lead to mistakes in the future. But let's\n",
    "try and if it's not correct this change can be undone later."
   ]
  },
  {
   "cell_type": "code",
   "execution_count": 69,
   "id": "edf3f679",
   "metadata": {},
   "outputs": [
    {
     "data": {
      "text/plain": [
       "468                          Dire Maul West - Entrance 1 \n",
       "469                          Dire Maul West - Entrance 2 \n",
       "1298                               Netherstorm : Area 52 \n",
       "1776             Netherstorm: Area 52 (Goblin Town/No FP)\n",
       "1778    Netherstorm: Eye of Storm (40-man Instance for...\n",
       "1784    Blade's Edge Mountains: Ony Cave 2 - Probably ...\n",
       "1835                          Dire Maul West - Entrance 1\n",
       "1836                          Dire Maul West - Entrance 2\n",
       "1892                              Nagrand Arena PVPZone05\n",
       "2351    Secret Locations: Nexus Level 80 - Inside Dala...\n",
       "2352         Secret Locations: Nexus Level 70 - Maelstrom\n",
       "2353    Secret Locations: Nexus Level 70 - Matrix Styl...\n",
       "2354    Secret Locations: Nexus Level 70 - Crystal Forest\n",
       "2355      Secret Locations: Nexus Level 70 - Dragons Room\n",
       "3310                                 Netherstorm: Area 52\n",
       "3481                                      Storm Peaks: K3\n",
       "Name: Location_Name, dtype: object"
      ]
     },
     "execution_count": 69,
     "metadata": {},
     "output_type": "execute_result"
    }
   ],
   "source": [
    "df_loc_coords[mask][\"Location_Name\"]"
   ]
  },
  {
   "cell_type": "code",
   "execution_count": 72,
   "id": "335d5e90",
   "metadata": {},
   "outputs": [
    {
     "name": "stderr",
     "output_type": "stream",
     "text": [
      "C:\\Users\\marco\\AppData\\Local\\Temp\\ipykernel_21004\\3554423160.py:1: SettingWithCopyWarning: \n",
      "A value is trying to be set on a copy of a slice from a DataFrame\n",
      "\n",
      "See the caveats in the documentation: https://pandas.pydata.org/pandas-docs/stable/user_guide/indexing.html#returning-a-view-versus-a-copy\n",
      "  df_loc_coords[\"Location_Name\"].iloc[1892] = 'Nagrand Arena PVP Zone 5'\n"
     ]
    }
   ],
   "source": [
    "df_loc_coords[\"Location_Name\"].iloc[1892] = 'Nagrand Arena PVP Zone 5'"
   ]
  },
  {
   "cell_type": "code",
   "execution_count": 73,
   "id": "b35d5080",
   "metadata": {},
   "outputs": [
    {
     "data": {
      "text/plain": [
       "468                          Dire Maul West - Entrance 1 \n",
       "469                          Dire Maul West - Entrance 2 \n",
       "1298                               Netherstorm : Area 52 \n",
       "1776             Netherstorm: Area 52 (Goblin Town/No FP)\n",
       "1778    Netherstorm: Eye of Storm (40-man Instance for...\n",
       "1784    Blade's Edge Mountains: Ony Cave 2 - Probably ...\n",
       "1835                          Dire Maul West - Entrance 1\n",
       "1836                          Dire Maul West - Entrance 2\n",
       "1892                             Nagrand Arena PVP Zone 5\n",
       "2351    Secret Locations: Nexus Level 80 - Inside Dala...\n",
       "2352         Secret Locations: Nexus Level 70 - Maelstrom\n",
       "2353    Secret Locations: Nexus Level 70 - Matrix Styl...\n",
       "2354    Secret Locations: Nexus Level 70 - Crystal Forest\n",
       "2355      Secret Locations: Nexus Level 70 - Dragons Room\n",
       "3310                                 Netherstorm: Area 52\n",
       "3481                                      Storm Peaks: K3\n",
       "Name: Location_Name, dtype: object"
      ]
     },
     "execution_count": 73,
     "metadata": {},
     "output_type": "execute_result"
    }
   ],
   "source": [
    "df_loc_coords[mask][\"Location_Name\"]"
   ]
  },
  {
   "cell_type": "code",
   "execution_count": 74,
   "id": "726ceda1",
   "metadata": {},
   "outputs": [],
   "source": [
    "strange_char = strange_char - set(digits)"
   ]
  },
  {
   "cell_type": "code",
   "execution_count": 75,
   "id": "2a688d78",
   "metadata": {},
   "outputs": [
    {
     "data": {
      "text/plain": [
       "{'&', '(', ')', ',', '-', '.', '/', ':'}"
      ]
     },
     "execution_count": 75,
     "metadata": {},
     "output_type": "execute_result"
    }
   ],
   "source": [
    "strange_char"
   ]
  },
  {
   "cell_type": "code",
   "execution_count": 56,
   "id": "afd5cd34",
   "metadata": {},
   "outputs": [],
   "source": [
    "# def filter_string(_s, _mask):\n",
    "#     \"\"\"Filters a string so it just contains just the letters that are not in the mask\n",
    "#     _mask: string with the letters that We don't want\n",
    "#     _s: string to filter\n",
    "#     return: the string filtered\"\"\"\n",
    "#     return \"\".join( filter(lambda c: c not in _mask, _s) ) "
   ]
  },
  {
   "cell_type": "code",
   "execution_count": 57,
   "id": "9cf2aa0a",
   "metadata": {},
   "outputs": [],
   "source": [
    "# #A set that contains only wanted characters for the string values\n",
    "# char_mask = \"\"\n",
    "# df_location[\"Location_Name\"] = df_location[\"Location_Name\"].apply(filter_string, args=(char_mask,))"
   ]
  }
 ],
 "metadata": {
  "kernelspec": {
   "display_name": "Python 3 (ipykernel)",
   "language": "python",
   "name": "python3"
  },
  "language_info": {
   "codemirror_mode": {
    "name": "ipython",
    "version": 3
   },
   "file_extension": ".py",
   "mimetype": "text/x-python",
   "name": "python",
   "nbconvert_exporter": "python",
   "pygments_lexer": "ipython3",
   "version": "3.10.10"
  },
  "toc": {
   "base_numbering": 1,
   "nav_menu": {},
   "number_sections": true,
   "sideBar": true,
   "skip_h1_title": false,
   "title_cell": "Table of Contents",
   "title_sidebar": "Contents",
   "toc_cell": false,
   "toc_position": {},
   "toc_section_display": true,
   "toc_window_display": false
  }
 },
 "nbformat": 4,
 "nbformat_minor": 5
}
