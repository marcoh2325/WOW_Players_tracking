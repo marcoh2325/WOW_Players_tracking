{
 "cells": [
  {
   "cell_type": "markdown",
   "id": "41bc8112",
   "metadata": {},
   "source": [
    "# Data Extraction"
   ]
  },
  {
   "cell_type": "markdown",
   "id": "baa6cc5b",
   "metadata": {},
   "source": [
    "The objective of this notebook is to extract the data about WOW AVATARs"
   ]
  },
  {
   "cell_type": "markdown",
   "id": "02d00cc0",
   "metadata": {},
   "source": [
    "First We choose the work directory"
   ]
  },
  {
   "cell_type": "code",
   "execution_count": 5,
   "id": "79bece45",
   "metadata": {},
   "outputs": [],
   "source": [
    "import os\n",
    "import pandas as pd"
   ]
  },
  {
   "cell_type": "code",
   "execution_count": 24,
   "id": "c2c6cae4",
   "metadata": {},
   "outputs": [],
   "source": [
    "#Path where all the data will be stored\n",
    "path = \"./Files\"\n",
    "os.mkdir(path)\n",
    "os.chdir(path)"
   ]
  },
  {
   "cell_type": "code",
   "execution_count": 25,
   "id": "40dce9b6",
   "metadata": {},
   "outputs": [],
   "source": [
    "import kaggle"
   ]
  },
  {
   "cell_type": "code",
   "execution_count": 26,
   "id": "9df9cb53",
   "metadata": {
    "scrolled": true
   },
   "outputs": [
    {
     "name": "stdout",
     "output_type": "stream",
     "text": [
      "ref                                  title                             size  lastUpdated          downloadCount  voteCount  usabilityRating  \n",
      "-----------------------------------  --------------------------------  ----  -------------------  -------------  ---------  ---------------  \n",
      "mylesoneill/warcraft-avatar-history  World of Warcraft Avatar History  71MB  2019-11-17 22:11:37           3708         94  0.7941176        \n"
     ]
    }
   ],
   "source": [
    "!kaggle datasets list -s [\"World of Warcraft Avatar History\"]"
   ]
  },
  {
   "cell_type": "code",
   "execution_count": 32,
   "id": "db2b0476",
   "metadata": {},
   "outputs": [
    {
     "data": {
      "text/plain": [
       "[]"
      ]
     },
     "execution_count": 32,
     "metadata": {},
     "output_type": "execute_result"
    }
   ],
   "source": [
    "os.listdir()"
   ]
  },
  {
   "cell_type": "code",
   "execution_count": 37,
   "id": "0324fbdb",
   "metadata": {},
   "outputs": [
    {
     "name": "stdout",
     "output_type": "stream",
     "text": [
      "Downloading warcraft-avatar-history.zip to C:\\Users\\marco\\Documents\\GET_JOB\\WOW_AVATAR_TRACKING\\Files\n",
      "\n"
     ]
    },
    {
     "name": "stderr",
     "output_type": "stream",
     "text": [
      "\n",
      "  0%|          | 0.00/71.5M [00:00<?, ?B/s]\n",
      "  1%|1         | 1.00M/71.5M [00:00<00:11, 6.47MB/s]\n",
      "  3%|2         | 2.00M/71.5M [00:00<00:09, 7.52MB/s]\n",
      "  4%|4         | 3.00M/71.5M [00:00<00:10, 6.88MB/s]\n",
      "  6%|5         | 4.00M/71.5M [00:00<00:08, 7.92MB/s]\n",
      "  7%|6         | 5.00M/71.5M [00:00<00:08, 8.54MB/s]\n",
      "  8%|8         | 6.00M/71.5M [00:00<00:07, 8.80MB/s]\n",
      " 10%|9         | 7.00M/71.5M [00:00<00:07, 9.11MB/s]\n",
      " 13%|#2        | 9.00M/71.5M [00:01<00:06, 9.75MB/s]\n",
      " 15%|#5        | 11.0M/71.5M [00:01<00:05, 10.8MB/s]\n",
      " 18%|#8        | 13.0M/71.5M [00:01<00:05, 11.3MB/s]\n",
      " 21%|##        | 15.0M/71.5M [00:01<00:05, 10.9MB/s]\n",
      " 24%|##3       | 17.0M/71.5M [00:01<00:05, 11.1MB/s]\n",
      " 27%|##6       | 19.0M/71.5M [00:01<00:04, 11.0MB/s]\n",
      " 29%|##9       | 21.0M/71.5M [00:02<00:05, 9.76MB/s]\n",
      " 32%|###2      | 23.0M/71.5M [00:02<00:05, 10.2MB/s]\n",
      " 35%|###4      | 25.0M/71.5M [00:02<00:04, 10.6MB/s]\n",
      " 38%|###7      | 27.0M/71.5M [00:02<00:04, 11.0MB/s]\n",
      " 41%|####      | 29.0M/71.5M [00:02<00:03, 11.4MB/s]\n",
      " 43%|####3     | 31.0M/71.5M [00:03<00:03, 10.8MB/s]\n",
      " 46%|####6     | 33.0M/71.5M [00:03<00:03, 11.0MB/s]\n",
      " 49%|####8     | 35.0M/71.5M [00:03<00:03, 10.9MB/s]\n",
      " 52%|#####1    | 37.0M/71.5M [00:03<00:03, 9.30MB/s]\n",
      " 55%|#####4    | 39.0M/71.5M [00:04<00:03, 10.1MB/s]\n",
      " 57%|#####7    | 41.0M/71.5M [00:04<00:03, 10.1MB/s]\n",
      " 60%|######    | 43.0M/71.5M [00:04<00:03, 9.77MB/s]\n",
      " 63%|######2   | 45.0M/71.5M [00:04<00:03, 8.34MB/s]\n",
      " 66%|######5   | 47.0M/71.5M [00:04<00:02, 9.06MB/s]\n",
      " 69%|######8   | 49.0M/71.5M [00:05<00:02, 9.75MB/s]\n",
      " 70%|######9   | 50.0M/71.5M [00:05<00:02, 9.75MB/s]\n",
      " 71%|#######1  | 51.0M/71.5M [00:05<00:02, 8.47MB/s]\n",
      " 74%|#######4  | 53.0M/71.5M [00:05<00:02, 9.65MB/s]\n",
      " 76%|#######5  | 54.0M/71.5M [00:05<00:01, 9.68MB/s]\n",
      " 78%|#######8  | 56.0M/71.5M [00:05<00:01, 10.6MB/s]\n",
      " 81%|########1 | 58.0M/71.5M [00:06<00:01, 10.5MB/s]\n",
      " 84%|########3 | 60.0M/71.5M [00:06<00:01, 10.7MB/s]\n",
      " 87%|########6 | 62.0M/71.5M [00:06<00:01, 9.64MB/s]\n",
      " 88%|########8 | 63.0M/71.5M [00:06<00:00, 9.73MB/s]\n",
      " 90%|########9 | 64.0M/71.5M [00:06<00:00, 9.22MB/s]\n",
      " 91%|######### | 65.0M/71.5M [00:06<00:00, 9.31MB/s]\n",
      " 92%|#########2| 66.0M/71.5M [00:07<00:00, 9.16MB/s]\n",
      " 95%|#########5| 68.0M/71.5M [00:07<00:00, 9.63MB/s]\n",
      " 97%|#########6| 69.0M/71.5M [00:07<00:00, 9.28MB/s]\n",
      " 98%|#########7| 70.0M/71.5M [00:07<00:00, 9.38MB/s]\n",
      " 99%|#########9| 71.0M/71.5M [00:07<00:00, 8.86MB/s]\n",
      "100%|##########| 71.5M/71.5M [00:07<00:00, 9.78MB/s]\n"
     ]
    }
   ],
   "source": [
    "!kaggle datasets download -d mylesoneill/warcraft-avatar-history"
   ]
  },
  {
   "cell_type": "code",
   "execution_count": 40,
   "id": "eb94e6b0",
   "metadata": {},
   "outputs": [],
   "source": [
    "zip_file = os.listdir()[0]"
   ]
  },
  {
   "cell_type": "code",
   "execution_count": 39,
   "id": "2b7ab33f",
   "metadata": {},
   "outputs": [],
   "source": [
    "from zipfile import ZipFile"
   ]
  },
  {
   "cell_type": "code",
   "execution_count": 47,
   "id": "37488733",
   "metadata": {},
   "outputs": [],
   "source": [
    "#The folder that will contain the original dataset files\n",
    "path_original = \"Original\"\n",
    "os.mkdir(path_original)"
   ]
  },
  {
   "cell_type": "code",
   "execution_count": 48,
   "id": "51243be7",
   "metadata": {},
   "outputs": [],
   "source": [
    "with ZipFile(zip_file, 'r') as zObject:\n",
    "    zObject.extractall(path=path_original)"
   ]
  },
  {
   "cell_type": "code",
   "execution_count": 49,
   "id": "a2a8ad02",
   "metadata": {},
   "outputs": [
    {
     "data": {
      "text/plain": [
       "['Original', 'warcraft-avatar-history.zip']"
      ]
     },
     "execution_count": 49,
     "metadata": {},
     "output_type": "execute_result"
    }
   ],
   "source": [
    "os.listdir()"
   ]
  },
  {
   "cell_type": "code",
   "execution_count": 51,
   "id": "6d4b4236",
   "metadata": {},
   "outputs": [],
   "source": [
    "os.chdir(path_original)"
   ]
  },
  {
   "cell_type": "code",
   "execution_count": 52,
   "id": "fae8fc69",
   "metadata": {},
   "outputs": [
    {
     "data": {
      "text/plain": [
       "['locations.csv', 'location_coords.csv', 'wowah_data.csv', 'zones.csv']"
      ]
     },
     "execution_count": 52,
     "metadata": {},
     "output_type": "execute_result"
    }
   ],
   "source": [
    "os.listdir()"
   ]
  }
 ],
 "metadata": {
  "kernelspec": {
   "display_name": "Python 3 (ipykernel)",
   "language": "python",
   "name": "python3"
  },
  "language_info": {
   "codemirror_mode": {
    "name": "ipython",
    "version": 3
   },
   "file_extension": ".py",
   "mimetype": "text/x-python",
   "name": "python",
   "nbconvert_exporter": "python",
   "pygments_lexer": "ipython3",
   "version": "3.10.10"
  },
  "toc": {
   "base_numbering": 1,
   "nav_menu": {},
   "number_sections": true,
   "sideBar": true,
   "skip_h1_title": false,
   "title_cell": "Table of Contents",
   "title_sidebar": "Contents",
   "toc_cell": false,
   "toc_position": {},
   "toc_section_display": true,
   "toc_window_display": false
  }
 },
 "nbformat": 4,
 "nbformat_minor": 5
}
